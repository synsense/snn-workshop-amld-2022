{
  "cells": [
    {
      "cell_type": "markdown",
      "metadata": {
        "id": "view-in-github",
        "colab_type": "text"
      },
      "source": [
        "<a href=\"https://colab.research.google.com/github/synsense/snn-workshop-amld-2022/blob/master/2.%20vision%20processing/AMLD_train_full.ipynb\" target=\"_parent\"><img src=\"https://colab.research.google.com/assets/colab-badge.svg\" alt=\"Open In Colab\"/></a>"
      ]
    },
    {
      "cell_type": "markdown",
      "id": "8c6f220d-c625-40d9-90cc-4bf94b5b51b0",
      "metadata": {
        "id": "8c6f220d-c625-40d9-90cc-4bf94b5b51b0"
      },
      "source": [
        "# Dance recognition training - full\n",
        "\n",
        "## Setup\n",
        "First we download the dataset and install missing packages."
      ]
    },
    {
      "cell_type": "code",
      "execution_count": 4,
      "id": "oKkZE2mBvULV",
      "metadata": {
        "colab": {
          "base_uri": "https://localhost:8080/"
        },
        "id": "oKkZE2mBvULV",
        "outputId": "4be39438-4cee-4864-f7db-e4e92cf89b74"
      },
      "outputs": [
        {
          "output_type": "stream",
          "name": "stdout",
          "text": [
            "\u001b[33m  DEPRECATION: A future pip version will change local packages to be built in-place without first copying to a temporary directory. We recommend you use --use-feature=in-tree-build to test your packages with this new behavior before it becomes the default.\n",
            "   pip 21.3 will remove support for this functionality. You can find discussion regarding this at https://github.com/pypa/pip/issues/7555.\u001b[0m\n",
            "  Building wheel for body-postures (setup.py) ... \u001b[?25l\u001b[?25hdone\n"
          ]
        }
      ],
      "source": [
        "### --- Download and install dataset\n",
        "import zipfile\n",
        "from pathlib import Path\n",
        "\n",
        "dataset_path = Path(\"/content\") / \"body-postures-dataset\"\n",
        "\n",
        "if not dataset_path.exists():\n",
        "  !wget -q --show-progress https://www.dropbox.com/s/b9gfafnh6aesrsu/body-postures-dataset.bin\n",
        "  # alternative mirror: https://lenzgregor.com/nextcloud/s/tbamCq9Eo95qfLc/download/body-postures-dataset.bin\n",
        "  !mv body-postures-dataset.bin body-postures-dataset.tar.gz\n",
        "  !tar -xzf body-postures-dataset.tar.gz\n",
        "\n",
        "!pip install ./body-postures-dataset --quiet\n",
        "!pip install torchmetrics --quiet"
      ]
    },
    {
      "cell_type": "code",
      "execution_count": 5,
      "id": "b430d407-1cf2-44d8-a40c-a0a18e178489",
      "metadata": {
        "id": "b430d407-1cf2-44d8-a40c-a0a18e178489"
      },
      "outputs": [],
      "source": [
        "import torch\n",
        "import torchmetrics\n",
        "import torchvision\n",
        "import numpy as np\n",
        "import matplotlib.pyplot as plt\n",
        "from torch import nn\n",
        "from tqdm.auto import tqdm\n",
        "from torch.utils.data import DataLoader\n",
        "from torch.utils.data.sampler import WeightedRandomSampler\n",
        "\n",
        "from body_postures import BodyPostureFrames"
      ]
    },
    {
      "cell_type": "markdown",
      "id": "25e34c81-5d62-41e6-bba8-c4ba432db4a0",
      "metadata": {
        "id": "25e34c81-5d62-41e6-bba8-c4ba432db4a0"
      },
      "source": [
        "## Data inspection\n",
        "\n",
        "The dataset is imbalanced. Let's look at training and testing set distribution and rectify the training set by using weighted random sampling."
      ]
    },
    {
      "cell_type": "code",
      "source": [
        "?BodyPostureFrames"
      ],
      "metadata": {
        "id": "nhdPEU8-YTuD"
      },
      "id": "nhdPEU8-YTuD",
      "execution_count": 6,
      "outputs": []
    },
    {
      "cell_type": "code",
      "execution_count": 7,
      "id": "bb4c86a1-e473-449a-b189-76a88a95769a",
      "metadata": {
        "id": "bb4c86a1-e473-449a-b189-76a88a95769a",
        "colab": {
          "base_uri": "https://localhost:8080/"
        },
        "outputId": "aebd8318-06f9-4c6e-e545-589358c59917"
      },
      "outputs": [
        {
          "output_type": "stream",
          "name": "stdout",
          "text": [
            "Metadata written to disk.\n",
            "Metadata written to disk.\n"
          ]
        }
      ],
      "source": [
        "event_count = 3000\n",
        "hot_pixel_filter_freq = 60\n",
        "\n",
        "frame_dataset_training = BodyPostureFrames(\n",
        "    data_path=dataset_path / \"data\" / \"train\",\n",
        "    event_count=event_count,\n",
        "    hot_pixel_filter_freq=hot_pixel_filter_freq,\n",
        "    metadata_path=f'metadata/frames/train/{event_count}events_{hot_pixel_filter_freq}filter',\n",
        ")\n",
        "\n",
        "frame_dataset_validation = BodyPostureFrames(\n",
        "    data_path=dataset_path / \"data\" / \"test\",\n",
        "    event_count=event_count,\n",
        "    hot_pixel_filter_freq=hot_pixel_filter_freq,\n",
        "    metadata_path=f'metadata/frames/test/{event_count}events_{hot_pixel_filter_freq}filter',\n",
        ")\n",
        "classes = frame_dataset_training.classes\n",
        "shape = frame_dataset_training.shape\n",
        "n_classes = len(classes)\n"
      ]
    },
    {
      "cell_type": "code",
      "source": [
        "def get_weight_sampler(dataset):\n",
        "  targets = []\n",
        "  for data, target in iter(dataset):\n",
        "    targets.append(target)\n",
        "  targets = np.array(targets)\n",
        "\n",
        "  count = np.bincount(targets)\n",
        "  frac = count / np.sum(count)\n",
        "  sample_weights_per_class = dict(zip(range(n_classes), 1 / frac / count.sum()))\n",
        "\n",
        "  sample_weights = [sample_weights_per_class[target] for target in targets]\n",
        "  sampler = WeightedRandomSampler(sample_weights, len(dataset), replacement=True)\n",
        "  return sampler"
      ],
      "metadata": {
        "id": "u-TeJyex-jHU"
      },
      "id": "u-TeJyex-jHU",
      "execution_count": 8,
      "outputs": []
    },
    {
      "cell_type": "code",
      "source": [
        "batch_size = 256\n",
        "train_loader = DataLoader(\n",
        "    dataset=frame_dataset_training, \n",
        "    batch_size=batch_size,\n",
        "    sampler=get_weight_sampler(frame_dataset_training)\n",
        "    )\n",
        "\n",
        "test_loader = DataLoader(\n",
        "    dataset=frame_dataset_validation,\n",
        "    batch_size=batch_size,\n",
        "    )"
      ],
      "metadata": {
        "id": "2EHJFbrQ00G4"
      },
      "id": "2EHJFbrQ00G4",
      "execution_count": 9,
      "outputs": []
    },
    {
      "cell_type": "code",
      "source": [
        "def plot_sample_dist(dataloader):\n",
        "  resampled_targets = []\n",
        "  for data, target in iter(dataloader):\n",
        "    resampled_targets.append(target)\n",
        "  resampled_targets = torch.cat(resampled_targets).numpy()\n",
        "\n",
        "  plt.bar(classes.keys(), np.bincount(resampled_targets))\n",
        "  plt.ylabel(\"Number of samples\")"
      ],
      "metadata": {
        "id": "EJ3jS12g_Uvp"
      },
      "id": "EJ3jS12g_Uvp",
      "execution_count": 10,
      "outputs": []
    },
    {
      "cell_type": "code",
      "source": [
        "plot_sample_dist(train_loader)"
      ],
      "metadata": {
        "colab": {
          "base_uri": "https://localhost:8080/",
          "height": 265
        },
        "id": "0F5HnnSuAjZZ",
        "outputId": "cc9725f7-3d6b-4790-a424-4b8e8857f6b4"
      },
      "id": "0F5HnnSuAjZZ",
      "execution_count": 11,
      "outputs": [
        {
          "output_type": "display_data",
          "data": {
            "image/png": "[encoded data removed]",
            "text/plain": [
              "<Figure size 432x288 with 1 Axes>"
            ]
          },
          "metadata": {
            "needs_background": "light"
          }
        }
      ]
    },
    {
      "cell_type": "code",
      "source": [
        "plot_sample_dist(test_loader)"
      ],
      "metadata": {
        "colab": {
          "base_uri": "https://localhost:8080/",
          "height": 265
        },
        "id": "TkFhBEcR_icT",
        "outputId": "135205f2-2f46-42fb-91e3-d77c648f9eb6"
      },
      "id": "TkFhBEcR_icT",
      "execution_count": 12,
      "outputs": [
        {
          "output_type": "display_data",
          "data": {
            "image/png": "[encoded data removed]",
            "text/plain": [
              "<Figure size 432x288 with 1 Axes>"
            ]
          },
          "metadata": {
            "needs_background": "light"
          }
        }
      ]
    },
    {
      "cell_type": "markdown",
      "id": "a5e91720-80f1-4126-8593-4630c5b7b5d3",
      "metadata": {
        "id": "a5e91720-80f1-4126-8593-4630c5b7b5d3"
      },
      "source": [
        "### Settings and hyperparameters"
      ]
    },
    {
      "cell_type": "code",
      "execution_count": 13,
      "id": "af5f2504-9edf-42ff-aca6-ec5018bbd53b",
      "metadata": {
        "id": "af5f2504-9edf-42ff-aca6-ec5018bbd53b",
        "colab": {
          "base_uri": "https://localhost:8080/"
        },
        "outputId": "61fee618-4b61-4db1-c748-efbdb3ac9999"
      },
      "outputs": [
        {
          "output_type": "stream",
          "name": "stdout",
          "text": [
            "Using device cuda.\n"
          ]
        }
      ],
      "source": [
        "learning_rate = 1e-3\n",
        "weight_decay = 0\n",
        "device = \"cuda\" if torch.cuda.is_available() else \"cpu\"\n",
        "print(f\"Using device {device}.\")"
      ]
    },
    {
      "cell_type": "markdown",
      "id": "31e251d3-a334-4a84-85d2-e4cafa79e8ec",
      "metadata": {
        "id": "31e251d3-a334-4a84-85d2-e4cafa79e8ec"
      },
      "source": [
        "### Model definition"
      ]
    },
    {
      "cell_type": "code",
      "execution_count": 14,
      "id": "fa05cdb9-08ac-4cab-b3d0-0c9c2d705b73",
      "metadata": {
        "id": "fa05cdb9-08ac-4cab-b3d0-0c9c2d705b73"
      },
      "outputs": [],
      "source": [
        "class ANN(nn.Sequential):\n",
        "    def __init__(self, n_classes=10):\n",
        "        super().__init__(\n",
        "            nn.Conv2d(2, 16, kernel_size=(3, 3), stride=2, padding=1, bias=False),  # 16, 64, 64\n",
        "            nn.ReLU(),\n",
        "            nn.AvgPool2d(kernel_size=(2, 2)),  # 16, 32, 32\n",
        "            nn.Dropout2d(0.1),\n",
        "            \n",
        "            nn.Conv2d(16, 32, kernel_size=(3, 3), stride=2, padding=1, bias=False),  # 32, 16, 16\n",
        "            nn.ReLU(),\n",
        "            nn.AvgPool2d(kernel_size=(2, 2)),  # 32, 8, 8\n",
        "            nn.Dropout2d(0.25),\n",
        "            \n",
        "            nn.Conv2d(32, 32, kernel_size=(3, 3), stride=1, padding=1, bias=False),  # 64, 4, 4\n",
        "            nn.ReLU(),\n",
        "            nn.AvgPool2d(kernel_size=(2, 2)),  # 64, 2, 2\n",
        "            nn.Flatten(),\n",
        "            nn.Dropout2d(0.5),\n",
        "            \n",
        "            nn.Linear(32*4*4, n_classes, bias=False),\n",
        "        )"
      ]
    },
    {
      "cell_type": "code",
      "execution_count": null,
      "id": "00852d7d-324e-4175-bf0f-0159eefe9206",
      "metadata": {
        "id": "00852d7d-324e-4175-bf0f-0159eefe9206",
        "colab": {
          "base_uri": "https://localhost:8080/",
          "height": 77,
          "referenced_widgets": [
            "42b5088cc0ee43c3b488b107c81327dd",
            "456fa1bfe1d14534a565cc99e09f26c3",
            "6ecf43b296274a88a69891c8a23484ac",
            "4a047c7338c649a488417418e4a3899a",
            "feda20a1c9c64ba2a4ee3463c7c9e20b",
            "4d8325441bee4b829d5da0bd17159fc0",
            "9275115708144c56b4ddcf1dd8a880a6",
            "57d75f4ca68549c6ab1c49120e6f90b6",
            "323cd7b383d54ff3ad94f3eccb18c609",
            "6eecbc5a268c4319ab7f38180b1e5b8c",
            "84a414ec43d4432fbe913c988dc06608"
          ]
        },
        "outputId": "768f5eb3-4624-482b-9081-5439302ac7ac"
      },
      "outputs": [
        {
          "output_type": "display_data",
          "data": {
            "application/vnd.jupyter.widget-view+json": {
              "model_id": "42b5088cc0ee43c3b488b107c81327dd",
              "version_minor": 0,
              "version_major": 2
            },
            "text/plain": [
              "Epochs:   0%|          | 0/100 [00:00<?, ?it/s]"
            ]
          },
          "metadata": {}
        }
      ],
      "source": [
        "ann = ANN(n_classes).to(device)\n",
        "\n",
        "# - Loss\n",
        "criterion = torch.nn.CrossEntropyLoss()\n",
        "\n",
        "# - Optimizer\n",
        "optimizer = torch.optim.Adam(ann.parameters(), lr=learning_rate, weight_decay=weight_decay)\n",
        "\n",
        "# - Confusion matrix\n",
        "confusion_matrix = torchmetrics.ConfusionMatrix(num_classes=n_classes)\n",
        "\n",
        "num_epochs = 100\n",
        "validate_every = 5\n",
        "\n",
        "# We use augmentation because we're oversampling underrepresented classes. \n",
        "augmentation = torchvision.transforms.RandomAffine(degrees=10, translate=[0.1, 0.1])\n",
        "\n",
        "# Track losses\n",
        "training_losses = []\n",
        "val_losses = []\n",
        "val_accuracy = 0\n",
        "val_loss = 0\n",
        "\n",
        "pbar_epoch = tqdm(range(num_epochs), desc=\"Epochs\")\n",
        "for epoch in pbar_epoch:\n",
        "    batch_loss = []\n",
        "    for data, labels in iter(train_loader):\n",
        "        # Forward pass\n",
        "        data = data.to(device)\n",
        "        data = augmentation(data)\n",
        "        logits = ann(data)\n",
        "        # Loss for current batch\n",
        "        loss = criterion(logits, labels.to(device))\n",
        "        # Backward pass\n",
        "        loss.backward()\n",
        "        # Update parameters\n",
        "        optimizer.step()\n",
        "        optimizer.zero_grad()\n",
        "        batch_loss.append(loss.item())\n",
        "\n",
        "    train_loss = sum(batch_loss) / len(batch_loss)\n",
        "    training_losses.append(train_loss)\n",
        "    pbar_epoch.set_postfix(train_loss=train_loss, val_loss=val_loss, val_acc=val_accuracy)\n",
        "    \n",
        "    # Validation\n",
        "    if validate_every is not None and (epoch + 1) % validate_every == 0:\n",
        "        with torch.no_grad():\n",
        "            val_data = []\n",
        "            batch_loss = []\n",
        "            for data, labels in iter(test_loader):\n",
        "                logits = ann(data.to(device))\n",
        "                # Loss\n",
        "                loss = criterion(logits, labels.to(device))\n",
        "                batch_loss.append(loss.item())\n",
        "                # Collect outputs and labels\n",
        "                predictions = torch.max(logits, dim=1)[1]\n",
        "                val_data.append((predictions.detach().cpu(), labels.detach().cpu()))\n",
        "            \n",
        "            val_loss = sum(batch_loss) / len(batch_loss)\n",
        "            val_losses.append(val_loss)\n",
        "\n",
        "            # Calculate accuracy\n",
        "            confusion_list = [confusion_matrix(pred, label) for pred, label in val_data]\n",
        "            confusion = torch.stack(confusion_list).sum(0)\n",
        "            val_accuracy = (confusion.trace() / confusion.sum()).item()\n",
        "            \n",
        "        pbar_epoch.set_postfix(train_loss=train_loss, val_loss=val_loss, val_acc=val_accuracy)\n",
        "            \n",
        "\n",
        "        "
      ]
    },
    {
      "cell_type": "code",
      "source": [
        "plt.plot(training_losses)\n",
        "plt.plot(range(0, len(training_losses), validate_every), val_losses)"
      ],
      "metadata": {
        "id": "VTNnYWTph-NT"
      },
      "id": "VTNnYWTph-NT",
      "execution_count": null,
      "outputs": []
    },
    {
      "cell_type": "markdown",
      "source": [
        "# Convert ANN to SNN"
      ],
      "metadata": {
        "id": "LWRzKLNyMpLr"
      },
      "id": "LWRzKLNyMpLr"
    },
    {
      "cell_type": "code",
      "source": [
        "ann"
      ],
      "metadata": {
        "id": "dU5jOTFrKYIe"
      },
      "id": "dU5jOTFrKYIe",
      "execution_count": null,
      "outputs": []
    },
    {
      "cell_type": "code",
      "source": [
        "sinabs_path = Path(\"/content\") / \"sinabs\"\n",
        "\n",
        "if not sinabs_path.exists():\n",
        "  !git clone https://github.com/synsense/sinabs.git\n",
        "  !cd sinabs; pip install . --quiet"
      ],
      "metadata": {
        "id": "IQg6U1y9KxcA"
      },
      "id": "IQg6U1y9KxcA",
      "execution_count": null,
      "outputs": []
    },
    {
      "cell_type": "code",
      "source": [
        "import sinabs\n",
        "import copy\n",
        "\n",
        "ann_copy = copy.deepcopy(ann)\n",
        "\n",
        "spike_layers = [name for name, child in ann_copy.cpu().named_children() if isinstance(child, nn.ReLU)]\n",
        "param_layers = [name for name, child in ann_copy.cpu().named_children() if isinstance(child, (nn.Conv2d, nn.Linear))]\n",
        "data = next(iter(train_loader))[0]\n",
        "\n",
        "sinabs.utils.normalize_weights(ann_copy, data, output_layers=spike_layers, param_layers=param_layers)"
      ],
      "metadata": {
        "id": "ctFILsxqMO-v"
      },
      "id": "ctFILsxqMO-v",
      "execution_count": null,
      "outputs": []
    },
    {
      "cell_type": "markdown",
      "source": [
        "We can scale the weights of the first layer to help the network with decision making. "
      ],
      "metadata": {
        "id": "ZJduQXLFTlqW"
      },
      "id": "ZJduQXLFTlqW"
    },
    {
      "cell_type": "code",
      "source": [
        "with torch.no_grad():\n",
        "  ann_copy[0].weight *= 5"
      ],
      "metadata": {
        "id": "FBvmnIJvPQg-"
      },
      "id": "FBvmnIJvPQg-",
      "execution_count": null,
      "outputs": []
    },
    {
      "cell_type": "code",
      "source": [
        "snn = sinabs.from_torch.from_model(ann_copy, input_shape=shape[::-1], add_spiking_output=True)\n",
        "snn"
      ],
      "metadata": {
        "id": "KecYTlVOz_4K"
      },
      "id": "KecYTlVOz_4K",
      "execution_count": null,
      "outputs": []
    },
    {
      "cell_type": "code",
      "source": [
        "torch.save(snn, 'model.pth')"
      ],
      "metadata": {
        "id": "fHdIM9xR2qZJ"
      },
      "id": "fHdIM9xR2qZJ",
      "execution_count": null,
      "outputs": []
    },
    {
      "cell_type": "markdown",
      "source": [
        "## Evaluate converted SNN on raster data"
      ],
      "metadata": {
        "id": "X_VHbLVpdtr8"
      },
      "id": "X_VHbLVpdtr8"
    },
    {
      "cell_type": "code",
      "source": [
        "from body_postures import BodyPostureRaster"
      ],
      "metadata": {
        "id": "fElIESQWdjnd"
      },
      "id": "fElIESQWdjnd",
      "execution_count": null,
      "outputs": []
    },
    {
      "cell_type": "code",
      "source": [
        "try:\n",
        "  snn = torch.load('model.pth')\n",
        "  print(\"Loaded saved model.\")\n",
        "except Exception as e:\n",
        "  print(e)"
      ],
      "metadata": {
        "id": "Y0WjZyYY2_ET"
      },
      "id": "Y0WjZyYY2_ET",
      "execution_count": null,
      "outputs": []
    },
    {
      "cell_type": "code",
      "source": [
        "?BodyPostureRaster"
      ],
      "metadata": {
        "id": "DAL0yf24ZRa0"
      },
      "id": "DAL0yf24ZRa0",
      "execution_count": null,
      "outputs": []
    },
    {
      "cell_type": "code",
      "source": [
        "slice_dt = 2e6 # microseconds\n",
        "bin_dt = 2e3\n",
        "batch_size = 1\n",
        "\n",
        "raster_test_dataset = BodyPostureRaster(\n",
        "    data_path=dataset_path / \"data\" / \"test\",\n",
        "    cache_path=f\"cache/train/{slice_dt}/{bin_dt}\",\n",
        "    slice_dt=slice_dt,\n",
        "    bin_dt=bin_dt,\n",
        "    metadata_path=f\"metadata/raster/test/{slice_dt}/{bin_dt}\",\n",
        "    hot_pixel_filter_freq=hot_pixel_filter_freq,\n",
        ")\n",
        "\n",
        "test_loader = DataLoader(raster_test_dataset, shuffle=True, batch_size=batch_size)"
      ],
      "metadata": {
        "id": "H17nrFCgdxZR"
      },
      "id": "H17nrFCgdxZR",
      "execution_count": null,
      "outputs": []
    },
    {
      "cell_type": "code",
      "source": [
        "device = \"cuda\" if torch.cuda.is_available() else \"cpu\"\n",
        "\n",
        "snn.eval()\n",
        "snn = snn.to(device)\n",
        "\n",
        "val_data = []\n",
        "batch_loss = []\n",
        "for data, labels in tqdm(test_loader):\n",
        "  with torch.no_grad():\n",
        "    snn.reset_states()\n",
        "    data = data.to(device)\n",
        "    data = data.flatten(0, 1).float()\n",
        "    spikes = snn(data).unflatten(0, (batch_size, -1))\n",
        "\n",
        "    # Collect outputs and labels\n",
        "    labels = labels.to(device)\n",
        "    predictions = spikes.sum(1).argmax(dim=1) \n",
        "    val_data.append(predictions.eq(labels.view_as(predictions)))\n",
        "    print(f\"Spike output: {spikes.sum(1).int().tolist()[0]}, label was {labels.item()}. Overall accuracy: {round((sum(val_data)/len(val_data)).item(), 3)}\")  "
      ],
      "metadata": {
        "id": "2da1idK4ekvE"
      },
      "id": "2da1idK4ekvE",
      "execution_count": null,
      "outputs": []
    },
    {
      "cell_type": "code",
      "source": [
        ""
      ],
      "metadata": {
        "id": "5193LM6bRAJT"
      },
      "id": "5193LM6bRAJT",
      "execution_count": null,
      "outputs": []
    }
  ],
  "metadata": {
    "colab": {
      "name": "AMLD_train_full.ipynb",
      "provenance": [],
      "collapsed_sections": [],
      "include_colab_link": true
    },
    "kernelspec": {
      "display_name": "Python 3 (ipykernel)",
      "language": "python",
      "name": "python3"
    },
    "language_info": {
      "codemirror_mode": {
        "name": "ipython",
        "version": 3
      },
      "file_extension": ".py",
      "mimetype": "text/x-python",
      "name": "python",
      "nbconvert_exporter": "python",
      "pygments_lexer": "ipython3",
      "version": "3.9.7"
    },
    "accelerator": "GPU",
    "widgets": {
      "application/vnd.jupyter.widget-state+json": {
        "42b5088cc0ee43c3b488b107c81327dd": {
          "model_module": "@jupyter-widgets/controls",
          "model_name": "HBoxModel",
          "model_module_version": "1.5.0",
          "state": {
            "_view_name": "HBoxView",
            "_dom_classes": [],
            "_model_name": "HBoxModel",
            "_view_module": "@jupyter-widgets/controls",
            "_model_module_version": "1.5.0",
            "_view_count": null,
            "_view_module_version": "1.5.0",
            "box_style": "",
            "layout": "IPY_MODEL_456fa1bfe1d14534a565cc99e09f26c3",
            "_model_module": "@jupyter-widgets/controls",
            "children": [
              "IPY_MODEL_6ecf43b296274a88a69891c8a23484ac",
              "IPY_MODEL_4a047c7338c649a488417418e4a3899a",
              "IPY_MODEL_feda20a1c9c64ba2a4ee3463c7c9e20b"
            ]
          }
        },
        "456fa1bfe1d14534a565cc99e09f26c3": {
          "model_module": "@jupyter-widgets/base",
          "model_name": "LayoutModel",
          "model_module_version": "1.2.0",
          "state": {
            "_view_name": "LayoutView",
            "grid_template_rows": null,
            "right": null,
            "justify_content": null,
            "_view_module": "@jupyter-widgets/base",
            "overflow": null,
            "_model_module_version": "1.2.0",
            "_view_count": null,
            "flex_flow": null,
            "width": null,
            "min_width": null,
            "border": null,
            "align_items": null,
            "bottom": null,
            "_model_module": "@jupyter-widgets/base",
            "top": null,
            "grid_column": null,
            "overflow_y": null,
            "overflow_x": null,
            "grid_auto_flow": null,
            "grid_area": null,
            "grid_template_columns": null,
            "flex": null,
            "_model_name": "LayoutModel",
            "justify_items": null,
            "grid_row": null,
            "max_height": null,
            "align_content": null,
            "visibility": null,
            "align_self": null,
            "height": null,
            "min_height": null,
            "padding": null,
            "grid_auto_rows": null,
            "grid_gap": null,
            "max_width": null,
            "order": null,
            "_view_module_version": "1.2.0",
            "grid_template_areas": null,
            "object_position": null,
            "object_fit": null,
            "grid_auto_columns": null,
            "margin": null,
            "display": null,
            "left": null
          }
        },
        "6ecf43b296274a88a69891c8a23484ac": {
          "model_module": "@jupyter-widgets/controls",
          "model_name": "HTMLModel",
          "model_module_version": "1.5.0",
          "state": {
            "_view_name": "HTMLView",
            "style": "IPY_MODEL_4d8325441bee4b829d5da0bd17159fc0",
            "_dom_classes": [],
            "description": "",
            "_model_name": "HTMLModel",
            "placeholder": "​",
            "_view_module": "@jupyter-widgets/controls",
            "_model_module_version": "1.5.0",
            "value": "Epochs:  12%",
            "_view_count": null,
            "_view_module_version": "1.5.0",
            "description_tooltip": null,
            "_model_module": "@jupyter-widgets/controls",
            "layout": "IPY_MODEL_9275115708144c56b4ddcf1dd8a880a6"
          }
        },
        "4a047c7338c649a488417418e4a3899a": {
          "model_module": "@jupyter-widgets/controls",
          "model_name": "FloatProgressModel",
          "model_module_version": "1.5.0",
          "state": {
            "_view_name": "ProgressView",
            "style": "IPY_MODEL_57d75f4ca68549c6ab1c49120e6f90b6",
            "_dom_classes": [],
            "description": "",
            "_model_name": "FloatProgressModel",
            "bar_style": "",
            "max": 100,
            "_view_module": "@jupyter-widgets/controls",
            "_model_module_version": "1.5.0",
            "value": 12,
            "_view_count": null,
            "_view_module_version": "1.5.0",
            "orientation": "horizontal",
            "min": 0,
            "description_tooltip": null,
            "_model_module": "@jupyter-widgets/controls",
            "layout": "IPY_MODEL_323cd7b383d54ff3ad94f3eccb18c609"
          }
        },
        "feda20a1c9c64ba2a4ee3463c7c9e20b": {
          "model_module": "@jupyter-widgets/controls",
          "model_name": "HTMLModel",
          "model_module_version": "1.5.0",
          "state": {
            "_view_name": "HTMLView",
            "style": "IPY_MODEL_6eecbc5a268c4319ab7f38180b1e5b8c",
            "_dom_classes": [],
            "description": "",
            "_model_name": "HTMLModel",
            "placeholder": "​",
            "_view_module": "@jupyter-widgets/controls",
            "_model_module_version": "1.5.0",
            "value": " 12/100 [00:27&lt;03:22,  2.30s/it, train_loss=0.415, val_acc=0.891, val_loss=0.318]",
            "_view_count": null,
            "_view_module_version": "1.5.0",
            "description_tooltip": null,
            "_model_module": "@jupyter-widgets/controls",
            "layout": "IPY_MODEL_84a414ec43d4432fbe913c988dc06608"
          }
        },
        "4d8325441bee4b829d5da0bd17159fc0": {
          "model_module": "@jupyter-widgets/controls",
          "model_name": "DescriptionStyleModel",
          "model_module_version": "1.5.0",
          "state": {
            "_view_name": "StyleView",
            "_model_name": "DescriptionStyleModel",
            "description_width": "",
            "_view_module": "@jupyter-widgets/base",
            "_model_module_version": "1.5.0",
            "_view_count": null,
            "_view_module_version": "1.2.0",
            "_model_module": "@jupyter-widgets/controls"
          }
        },
        "9275115708144c56b4ddcf1dd8a880a6": {
          "model_module": "@jupyter-widgets/base",
          "model_name": "LayoutModel",
          "model_module_version": "1.2.0",
          "state": {
            "_view_name": "LayoutView",
            "grid_template_rows": null,
            "right": null,
            "justify_content": null,
            "_view_module": "@jupyter-widgets/base",
            "overflow": null,
            "_model_module_version": "1.2.0",
            "_view_count": null,
            "flex_flow": null,
            "width": null,
            "min_width": null,
            "border": null,
            "align_items": null,
            "bottom": null,
            "_model_module": "@jupyter-widgets/base",
            "top": null,
            "grid_column": null,
            "overflow_y": null,
            "overflow_x": null,
            "grid_auto_flow": null,
            "grid_area": null,
            "grid_template_columns": null,
            "flex": null,
            "_model_name": "LayoutModel",
            "justify_items": null,
            "grid_row": null,
            "max_height": null,
            "align_content": null,
            "visibility": null,
            "align_self": null,
            "height": null,
            "min_height": null,
            "padding": null,
            "grid_auto_rows": null,
            "grid_gap": null,
            "max_width": null,
            "order": null,
            "_view_module_version": "1.2.0",
            "grid_template_areas": null,
            "object_position": null,
            "object_fit": null,
            "grid_auto_columns": null,
            "margin": null,
            "display": null,
            "left": null
          }
        },
        "57d75f4ca68549c6ab1c49120e6f90b6": {
          "model_module": "@jupyter-widgets/controls",
          "model_name": "ProgressStyleModel",
          "model_module_version": "1.5.0",
          "state": {
            "_view_name": "StyleView",
            "_model_name": "ProgressStyleModel",
            "description_width": "",
            "_view_module": "@jupyter-widgets/base",
            "_model_module_version": "1.5.0",
            "_view_count": null,
            "_view_module_version": "1.2.0",
            "bar_color": null,
            "_model_module": "@jupyter-widgets/controls"
          }
        },
        "323cd7b383d54ff3ad94f3eccb18c609": {
          "model_module": "@jupyter-widgets/base",
          "model_name": "LayoutModel",
          "model_module_version": "1.2.0",
          "state": {
            "_view_name": "LayoutView",
            "grid_template_rows": null,
            "right": null,
            "justify_content": null,
            "_view_module": "@jupyter-widgets/base",
            "overflow": null,
            "_model_module_version": "1.2.0",
            "_view_count": null,
            "flex_flow": null,
            "width": null,
            "min_width": null,
            "border": null,
            "align_items": null,
            "bottom": null,
            "_model_module": "@jupyter-widgets/base",
            "top": null,
            "grid_column": null,
            "overflow_y": null,
            "overflow_x": null,
            "grid_auto_flow": null,
            "grid_area": null,
            "grid_template_columns": null,
            "flex": null,
            "_model_name": "LayoutModel",
            "justify_items": null,
            "grid_row": null,
            "max_height": null,
            "align_content": null,
            "visibility": null,
            "align_self": null,
            "height": null,
            "min_height": null,
            "padding": null,
            "grid_auto_rows": null,
            "grid_gap": null,
            "max_width": null,
            "order": null,
            "_view_module_version": "1.2.0",
            "grid_template_areas": null,
            "object_position": null,
            "object_fit": null,
            "grid_auto_columns": null,
            "margin": null,
            "display": null,
            "left": null
          }
        },
        "6eecbc5a268c4319ab7f38180b1e5b8c": {
          "model_module": "@jupyter-widgets/controls",
          "model_name": "DescriptionStyleModel",
          "model_module_version": "1.5.0",
          "state": {
            "_view_name": "StyleView",
            "_model_name": "DescriptionStyleModel",
            "description_width": "",
            "_view_module": "@jupyter-widgets/base",
            "_model_module_version": "1.5.0",
            "_view_count": null,
            "_view_module_version": "1.2.0",
            "_model_module": "@jupyter-widgets/controls"
          }
        },
        "84a414ec43d4432fbe913c988dc06608": {
          "model_module": "@jupyter-widgets/base",
          "model_name": "LayoutModel",
          "model_module_version": "1.2.0",
          "state": {
            "_view_name": "LayoutView",
            "grid_template_rows": null,
            "right": null,
            "justify_content": null,
            "_view_module": "@jupyter-widgets/base",
            "overflow": null,
            "_model_module_version": "1.2.0",
            "_view_count": null,
            "flex_flow": null,
            "width": null,
            "min_width": null,
            "border": null,
            "align_items": null,
            "bottom": null,
            "_model_module": "@jupyter-widgets/base",
            "top": null,
            "grid_column": null,
            "overflow_y": null,
            "overflow_x": null,
            "grid_auto_flow": null,
            "grid_area": null,
            "grid_template_columns": null,
            "flex": null,
            "_model_name": "LayoutModel",
            "justify_items": null,
            "grid_row": null,
            "max_height": null,
            "align_content": null,
            "visibility": null,
            "align_self": null,
            "height": null,
            "min_height": null,
            "padding": null,
            "grid_auto_rows": null,
            "grid_gap": null,
            "max_width": null,
            "order": null,
            "_view_module_version": "1.2.0",
            "grid_template_areas": null,
            "object_position": null,
            "object_fit": null,
            "grid_auto_columns": null,
            "margin": null,
            "display": null,
            "left": null
          }
        }
      }
    }
  },
  "nbformat": 4,
  "nbformat_minor": 5
}