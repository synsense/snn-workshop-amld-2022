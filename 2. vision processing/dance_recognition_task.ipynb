{
  "cells": [
    {
      "cell_type": "markdown",
      "id": "8c6f220d-c625-40d9-90cc-4bf94b5b51b0",
      "metadata": {
        "id": "8c6f220d-c625-40d9-90cc-4bf94b5b51b0"
      },
      "source": [
        "# Dance recognition challenge\n",
        "\n",
        "## Setup\n",
        "First we download the dataset and install missing packages."
      ]
    },
    {
      "cell_type": "code",
      "execution_count": null,
      "id": "oKkZE2mBvULV",
      "metadata": {
        "colab": {
          "base_uri": "https://localhost:8080/"
        },
        "id": "oKkZE2mBvULV",
        "outputId": "703ae2c5-0a6f-4b12-fc9d-63c9646c9220"
      },
      "outputs": [
        {
          "output_type": "stream",
          "name": "stdout",
          "text": [
            "\u001b[33m  DEPRECATION: A future pip version will change local packages to be built in-place without first copying to a temporary directory. We recommend you use --use-feature=in-tree-build to test your packages with this new behavior before it becomes the default.\n",
            "   pip 21.3 will remove support for this functionality. You can find discussion regarding this at https://github.com/pypa/pip/issues/7555.\u001b[0m\n",
            "  Building wheel for body-postures (setup.py) ... \u001b[?25l\u001b[?25hdone\n"
          ]
        }
      ],
      "source": [
        "import zipfile\n",
        "from pathlib import Path\n",
        "\n",
        "# - Download of dataset\n",
        "dataset_path = Path(\"/content\") / \"body-postures-dataset\"\n",
        "\n",
        "if not dataset_path.exists():\n",
        "  !wget -q --show-progress https://www.dropbox.com/s/b9gfafnh6aesrsu/body-postures-dataset.bin\n",
        "  # alternative mirror: https://lenzgregor.com/nextcloud/s/tbamCq9Eo95qfLc/download/body-postures-dataset.bin\n",
        "  !mv body-postures-dataset.bin body-postures-dataset.tar.gz\n",
        "  !tar -xzf body-postures-dataset.tar.gz\n",
        "\n",
        "# - Install dataset as package\n",
        "!pip install ./body-postures-dataset --quiet\n",
        "\n",
        "# - Install torchmetrics\n",
        "!pip install torchmetrics --quiet"
      ]
    },
    {
      "cell_type": "code",
      "execution_count": null,
      "id": "b430d407-1cf2-44d8-a40c-a0a18e178489",
      "metadata": {
        "id": "b430d407-1cf2-44d8-a40c-a0a18e178489"
      },
      "outputs": [],
      "source": [
        "import torch\n",
        "import torchmetrics\n",
        "import torchvision\n",
        "import numpy as np\n",
        "import matplotlib.pyplot as plt\n",
        "from torch import nn\n",
        "from tqdm.auto import tqdm\n",
        "from torch.utils.data import DataLoader\n",
        "from torch.utils.data.sampler import WeightedRandomSampler\n",
        "\n",
        "from body_postures import BodyPostureFrames"
      ]
    },
    {
      "cell_type": "markdown",
      "source": [
        "## Data inspection\n",
        "\n",
        "The original data consits of a continuous stream of asynchronous events - each with its own time stamp. On an asynchronous neuromorhpic processor, the dynamics of the network are continuous in time and are directly linked to the timings of the input events.\n",
        "\n",
        "However, we are going to train our model on a CPU or GPU, which are synchronous (clocked) compute architectures. We therefore need to represent the envents in discretized time. We are going to use two different ways of arranging the events, depending on the type of neural network into which we are feeding the data.\n",
        "\n",
        "### Frame representation\n",
        "\n",
        "For artificial neural networks (ANNs), we will split the data stream of each recording into segments, each with the same, pre-defined number of events. \n",
        "\n",
        "In the individual segments we count the number of events for each pixel and channel. This way we eliminate the time dimension, such that each segment now has become a static frame. The frames could be compared to grey-scale images, with the brightness corresponding to the event count. Nothe that different to the frames of a conventional video camera, each frame here generally represents a different amount of time.\n",
        "\n",
        "The frame based representation is provided by `BodyPostureFrames`, which is a subclass of a PyTorch dataset."
      ],
      "metadata": {
        "id": "6WVpUOqzzib3"
      },
      "id": "6WVpUOqzzib3"
    },
    {
      "cell_type": "code",
      "source": [
        "?BodyPostureFrames"
      ],
      "metadata": {
        "id": "nhdPEU8-YTuD"
      },
      "id": "nhdPEU8-YTuD",
      "execution_count": null,
      "outputs": []
    },
    {
      "cell_type": "markdown",
      "source": [
        "We will use this class to provide the input for training an ANN. Let's generate a training and and a test set. It might take a few seconds to convert the events into frames."
      ],
      "metadata": {
        "id": "F8qJzAZG_7kT"
      },
      "id": "F8qJzAZG_7kT"
    },
    {
      "cell_type": "code",
      "execution_count": null,
      "id": "bb4c86a1-e473-449a-b189-76a88a95769a",
      "metadata": {
        "id": "bb4c86a1-e473-449a-b189-76a88a95769a",
        "colab": {
          "base_uri": "https://localhost:8080/"
        },
        "outputId": "dd7a46ae-9131-4a3f-d985-76ed649dc5c6"
      },
      "outputs": [
        {
          "output_type": "stream",
          "name": "stdout",
          "text": [
            "Read metadata from disk.\n",
            "Read metadata from disk.\n"
          ]
        }
      ],
      "source": [
        "# The number of events per frame\n",
        "event_count = 3000\n",
        "\n",
        "# Ignore pixels where the firing frequency exceeds a given value\n",
        "hot_pixel_filter_freq = 60\n",
        "\n",
        "# Training dataset\n",
        "frame_dataset_training = BodyPostureFrames(\n",
        "    data_path=dataset_path / \"data\" / \"train\",\n",
        "    event_count=event_count,\n",
        "    hot_pixel_filter_freq=hot_pixel_filter_freq,\n",
        "    metadata_path=f'metadata/frames/train/{event_count}events_{hot_pixel_filter_freq}filter',\n",
        ")\n",
        "\n",
        "# Validation dataset\n",
        "frame_dataset_validation = BodyPostureFrames(\n",
        "    data_path=dataset_path / \"data\" / \"test\",\n",
        "    event_count=event_count,\n",
        "    hot_pixel_filter_freq=hot_pixel_filter_freq,\n",
        "    metadata_path=f'metadata/frames/test/{event_count}events_{hot_pixel_filter_freq}filter',\n",
        ")\n",
        "\n",
        "classes = frame_dataset_training.classes\n",
        "shape = frame_dataset_training.shape\n",
        "n_classes = len(classes)\n"
      ]
    },
    {
      "cell_type": "markdown",
      "source": [
        "It can happen that some pixels of our sensor just produce random events at a high rate. We want to ignore these. With the `hot_pixel_filter_freq` argument we set an upper limit for which event rate we consider reasonable. Any pixel emitting events at a higher rate is probably just generating noise and will be ignored. \n",
        "\n",
        "For efficient data loading we do the conversion of events into frames only once and then buffer the data on disk, under the `metadata_path`.\n",
        "\n",
        "Let's have a closer look at our data! For this we pick some frame from our training set:"
      ],
      "metadata": {
        "id": "JJtpYK8fAgSE"
      },
      "id": "JJtpYK8fAgSE"
    },
    {
      "cell_type": "code",
      "source": [
        "sample_index = 42\n",
        "frame, label = frame_dataset_training[sample_index]\n",
        "\n",
        "print(\"Frame data type:\", type(frame))\n",
        "print(\"Frame shape:\", frame.shape)\n",
        "print(\"Frame sum:\", frame.sum())\n",
        "print(\"Max. number events at single pixel:\", frame.max())\n",
        "plt.imshow(frame[0])"
      ],
      "metadata": {
        "id": "W_QtjT3DCBcB",
        "outputId": "4803d419-f8af-4891-c710-2c38407f4c69",
        "colab": {
          "base_uri": "https://localhost:8080/",
          "height": 355
        }
      },
      "id": "W_QtjT3DCBcB",
      "execution_count": null,
      "outputs": [
        {
          "output_type": "stream",
          "name": "stdout",
          "text": [
            "Frame data type: <class 'numpy.ndarray'>\n",
            "Frame shape: (1, 128, 128)\n",
            "Frame sum: 3000.0\n",
            "Max. number events at single pixel: 31.0\n"
          ]
        },
        {
          "output_type": "execute_result",
          "data": {
            "text/plain": [
              "<matplotlib.image.AxesImage at 0x7f2efb374890>"
            ]
          },
          "metadata": {},
          "execution_count": 5
        },
        {
          "output_type": "display_data",
          "data": {
            "text/plain": [
              "<Figure size 432x288 with 1 Axes>"
            ],
            "image/png": "[encoded data removed]"
          },
          "metadata": {
            "needs_background": "light"
          }
        }
      ]
    },
    {
      "cell_type": "markdown",
      "source": [
        "The frame is a numpy array of shape (1, 128, 128). The first dimension is the number of channels, which in this case is 1. The other two dimensions correspond to the image size. We see that our input has a resolution of 128x128.\n",
        "\n",
        "We also note that the total number of events in the frame is 3000, which is what we have previously defined with the `event_count` argument.\n",
        "\n",
        "When plotting the frame, brighter areas correspond to regions with a higher number of events. Because events are generated from intensity changes, those are the regions where something is happening. Any static background becomes invisible and we only see the shape of the person moving in front of the sensor."
      ],
      "metadata": {
        "id": "-_SGkLd7DEME"
      },
      "id": "-_SGkLd7DEME"
    },
    {
      "cell_type": "markdown",
      "source": [
        "### Ground truth\n",
        "\n",
        "Every sample in the dataset comes with a label that enumerates the correct class. The `classes` dict maps the names of the classes to their integer labels. There are five poses (\"clap\", \"mj\", \"salive\", \"star\" and \"wave\") as well as a \"background\" class for recordings without any person and \"other\", when a person is not performing any known move."
      ],
      "metadata": {
        "id": "lTZugl6eGLq-"
      },
      "id": "lTZugl6eGLq-"
    },
    {
      "cell_type": "code",
      "source": [
        "print(\"Label:\", label)\n",
        "print(classes)"
      ],
      "metadata": {
        "id": "6g9mvcyQEjBx",
        "outputId": "a244f26e-014c-4947-e6da-0a87f14c4c46",
        "colab": {
          "base_uri": "https://localhost:8080/"
        }
      },
      "id": "6g9mvcyQEjBx",
      "execution_count": null,
      "outputs": [
        {
          "output_type": "stream",
          "name": "stdout",
          "text": [
            "Label: 4\n",
            "{'background': 0, 'clap': 1, 'mj': 2, 'salive': 3, 'star': 4, 'wave': 5, 'other': 6}\n"
          ]
        }
      ]
    },
    {
      "cell_type": "markdown",
      "id": "25e34c81-5d62-41e6-bba8-c4ba432db4a0",
      "metadata": {
        "id": "25e34c81-5d62-41e6-bba8-c4ba432db4a0"
      },
      "source": [
        "### BONUS TASK: Data balancing\n",
        "\n",
        "The dataset is imbalanced. Let's look at training and testing set distribution and rectify the training set by using weighted random sampling.\n",
        "\n",
        "You can skip this for now and come back to this task later."
      ]
    },
    {
      "cell_type": "code",
      "source": [
        "batch_size = 256\n",
        "train_loader = DataLoader(\n",
        "    dataset=frame_dataset_training, \n",
        "    batch_size=batch_size,\n",
        "    # sampler= ...\n",
        "    )\n",
        "\n",
        "test_loader = DataLoader(\n",
        "    dataset=frame_dataset_validation,\n",
        "    batch_size=batch_size,\n",
        "    )"
      ],
      "metadata": {
        "id": "2EHJFbrQ00G4"
      },
      "id": "2EHJFbrQ00G4",
      "execution_count": null,
      "outputs": []
    },
    {
      "cell_type": "code",
      "source": [
        "def plot_sample_dist(dataloader):\n",
        "  resampled_targets = []\n",
        "  for data, target in iter(dataloader):\n",
        "    resampled_targets.append(target)\n",
        "  resampled_targets = torch.cat(resampled_targets).numpy()\n",
        "\n",
        "  plt.bar(classes.keys(), np.bincount(resampled_targets))\n",
        "  plt.ylabel(\"Number of samples\")"
      ],
      "metadata": {
        "id": "EJ3jS12g_Uvp"
      },
      "id": "EJ3jS12g_Uvp",
      "execution_count": null,
      "outputs": []
    },
    {
      "cell_type": "code",
      "source": [
        "# plot_sample_dist(train_loader)"
      ],
      "metadata": {
        "id": "0F5HnnSuAjZZ",
        "colab": {
          "base_uri": "https://localhost:8080/",
          "height": 265
        },
        "outputId": "3e039a20-aeed-4c76-933a-79266dd8fb20"
      },
      "id": "0F5HnnSuAjZZ",
      "execution_count": null,
      "outputs": [
        {
          "output_type": "display_data",
          "data": {
            "text/plain": [
              "<Figure size 432x288 with 1 Axes>"
            ],
            "image/png": "[encoded data removed]"
          },
          "metadata": {
            "needs_background": "light"
          }
        }
      ]
    },
    {
      "cell_type": "code",
      "source": [
        "plot_sample_dist(test_loader)"
      ],
      "metadata": {
        "id": "TkFhBEcR_icT",
        "colab": {
          "base_uri": "https://localhost:8080/",
          "height": 265
        },
        "outputId": "52898e2c-45a0-4739-db7f-e1702f69ca97"
      },
      "id": "TkFhBEcR_icT",
      "execution_count": null,
      "outputs": [
        {
          "output_type": "display_data",
          "data": {
            "text/plain": [
              "<Figure size 432x288 with 1 Axes>"
            ],
            "image/png": "[encoded data removed]"
          },
          "metadata": {
            "needs_background": "light"
          }
        }
      ]
    },
    {
      "cell_type": "markdown",
      "id": "a5e91720-80f1-4126-8593-4630c5b7b5d3",
      "metadata": {
        "id": "a5e91720-80f1-4126-8593-4630c5b7b5d3"
      },
      "source": [
        "### Settings and hyperparameters"
      ]
    },
    {
      "cell_type": "markdown",
      "source": [
        "You can try out different learning rates and weight decays here, but the providedd defaults should yield reasonable results."
      ],
      "metadata": {
        "id": "SypRWbGqF6FF"
      },
      "id": "SypRWbGqF6FF"
    },
    {
      "cell_type": "code",
      "execution_count": null,
      "id": "af5f2504-9edf-42ff-aca6-ec5018bbd53b",
      "metadata": {
        "id": "af5f2504-9edf-42ff-aca6-ec5018bbd53b",
        "colab": {
          "base_uri": "https://localhost:8080/"
        },
        "outputId": "ac46dd1e-24fd-478f-d6aa-2895f46edac1"
      },
      "outputs": [
        {
          "output_type": "stream",
          "name": "stdout",
          "text": [
            "Using device cuda.\n"
          ]
        }
      ],
      "source": [
        "learning_rate = 1e-3\n",
        "weight_decay = 0\n",
        "device = \"cuda\" if torch.cuda.is_available() else \"cpu\"\n",
        "print(f\"Using device {device}.\")"
      ]
    },
    {
      "cell_type": "markdown",
      "id": "31e251d3-a334-4a84-85d2-e4cafa79e8ec",
      "metadata": {
        "id": "31e251d3-a334-4a84-85d2-e4cafa79e8ec"
      },
      "source": [
        "### Model definition"
      ]
    },
    {
      "cell_type": "markdown",
      "source": [
        "We suggest to use the following model architecture. Remember, the input shape of each frame is (1, 128, 128)."
      ],
      "metadata": {
        "id": "BKUH2XrsGX1c"
      },
      "id": "BKUH2XrsGX1c"
    },
    {
      "cell_type": "code",
      "execution_count": null,
      "id": "fa05cdb9-08ac-4cab-b3d0-0c9c2d705b73",
      "metadata": {
        "id": "fa05cdb9-08ac-4cab-b3d0-0c9c2d705b73"
      },
      "outputs": [],
      "source": [
        "class ANN(nn.Sequential):\n",
        "    def __init__(self, n_classes=10):\n",
        "        super().__init__(\n",
        "            nn.Conv2d(1, 16, kernel_size=(3, 3), stride=2, padding=1, bias=False),  # 16, 64, 64\n",
        "            nn.ReLU(),\n",
        "            nn.AvgPool2d(kernel_size=(2, 2)),  # 16, 32, 32\n",
        "            nn.Dropout2d(0.1),\n",
        "            \n",
        "            nn.Conv2d(16, 32, kernel_size=(3, 3), stride=2, padding=1, bias=False),  # 32, 16, 16\n",
        "            nn.ReLU(),\n",
        "            nn.AvgPool2d(kernel_size=(2, 2)),  # 32, 8, 8\n",
        "            nn.Dropout2d(0.25),\n",
        "            \n",
        "            nn.Conv2d(32, 32, kernel_size=(3, 3), stride=1, padding=1, bias=False),  # 64, 4, 4\n",
        "            nn.ReLU(),\n",
        "            nn.AvgPool2d(kernel_size=(2, 2)),  # 64, 2, 2\n",
        "            nn.Flatten(),\n",
        "            nn.Dropout2d(0.5),\n",
        "            \n",
        "            nn.Linear(32*4*4, n_classes, bias=False),\n",
        "        )"
      ]
    },
    {
      "cell_type": "markdown",
      "source": [
        "## Training\n",
        "\n",
        "The stage is yours! Use the provided data loaders and model architecture to train an ANN that is able to classify the dance poses."
      ],
      "metadata": {
        "id": "oyUYhZGAJZNH"
      },
      "id": "oyUYhZGAJZNH"
    },
    {
      "cell_type": "code",
      "source": [
        "### --- Train ANN here"
      ],
      "metadata": {
        "id": "WMRAxsTyJvZn"
      },
      "id": "WMRAxsTyJvZn",
      "execution_count": null,
      "outputs": []
    },
    {
      "cell_type": "markdown",
      "source": [
        "# Convert ANN to SNN"
      ],
      "metadata": {
        "id": "LWRzKLNyMpLr"
      },
      "id": "LWRzKLNyMpLr"
    },
    {
      "cell_type": "code",
      "source": [
        "ann"
      ],
      "metadata": {
        "id": "dU5jOTFrKYIe",
        "colab": {
          "base_uri": "https://localhost:8080/"
        },
        "outputId": "33cc5f9b-7f66-4695-a9e8-9a94ce382df1"
      },
      "id": "dU5jOTFrKYIe",
      "execution_count": null,
      "outputs": [
        {
          "output_type": "execute_result",
          "data": {
            "text/plain": [
              "ANN(\n",
              "  (0): Conv2d(1, 16, kernel_size=(3, 3), stride=(2, 2), padding=(1, 1), bias=False)\n",
              "  (1): ReLU()\n",
              "  (2): AvgPool2d(kernel_size=(2, 2), stride=(2, 2), padding=0)\n",
              "  (3): Dropout2d(p=0.1, inplace=False)\n",
              "  (4): Conv2d(16, 32, kernel_size=(3, 3), stride=(2, 2), padding=(1, 1), bias=False)\n",
              "  (5): ReLU()\n",
              "  (6): AvgPool2d(kernel_size=(2, 2), stride=(2, 2), padding=0)\n",
              "  (7): Dropout2d(p=0.25, inplace=False)\n",
              "  (8): Conv2d(32, 32, kernel_size=(3, 3), stride=(1, 1), padding=(1, 1), bias=False)\n",
              "  (9): ReLU()\n",
              "  (10): AvgPool2d(kernel_size=(2, 2), stride=(2, 2), padding=0)\n",
              "  (11): Flatten(start_dim=1, end_dim=-1)\n",
              "  (12): Dropout2d(p=0.5, inplace=False)\n",
              "  (13): Linear(in_features=512, out_features=7, bias=False)\n",
              ")"
            ]
          },
          "metadata": {},
          "execution_count": 16
        }
      ]
    },
    {
      "cell_type": "code",
      "source": [
        "sinabs_path = Path(\"/content\") / \"sinabs\"\n",
        "\n",
        "if not sinabs_path.exists():\n",
        "  !git clone https://github.com/synsense/sinabs.git\n",
        "  !cd sinabs; pip install . --quiet"
      ],
      "metadata": {
        "id": "IQg6U1y9KxcA",
        "colab": {
          "base_uri": "https://localhost:8080/"
        },
        "outputId": "d8ba0711-5b48-4a67-94a4-10fc7ae0bda9"
      },
      "id": "IQg6U1y9KxcA",
      "execution_count": null,
      "outputs": [
        {
          "output_type": "stream",
          "name": "stdout",
          "text": [
            "Cloning into 'sinabs'...\n",
            "remote: Enumerating objects: 3628, done.\u001b[K\n",
            "remote: Counting objects: 100% (3628/3628), done.\u001b[K\n",
            "remote: Compressing objects: 100% (1089/1089), done.\u001b[K\n",
            "remote: Total 3628 (delta 2612), reused 3451 (delta 2483), pack-reused 0\u001b[K\n",
            "Receiving objects: 100% (3628/3628), 2.71 MiB | 12.26 MiB/s, done.\n",
            "Resolving deltas: 100% (2612/2612), done.\n",
            "\u001b[33m  DEPRECATION: A future pip version will change local packages to be built in-place without first copying to a temporary directory. We recommend you use --use-feature=in-tree-build to test your packages with this new behavior before it becomes the default.\n",
            "   pip 21.3 will remove support for this functionality. You can find discussion regarding this at https://github.com/pypa/pip/issues/7555.\u001b[0m\n",
            "  Building wheel for sinabs (setup.py) ... \u001b[?25l\u001b[?25hdone\n"
          ]
        }
      ]
    },
    {
      "cell_type": "code",
      "source": [
        "import sinabs\n",
        "import copy\n",
        "\n",
        "ann_copy = copy.deepcopy(ann)\n",
        "\n",
        "spike_layers = [name for name, child in ann_copy.cpu().named_children() if isinstance(child, nn.ReLU)]\n",
        "param_layers = [name for name, child in ann_copy.cpu().named_children() if isinstance(child, (nn.Conv2d, nn.Linear))]\n",
        "data = next(iter(train_loader))[0]\n",
        "\n",
        "sinabs.utils.normalize_weights(ann_copy, data, output_layers=spike_layers, param_layers=param_layers)"
      ],
      "metadata": {
        "id": "ctFILsxqMO-v"
      },
      "id": "ctFILsxqMO-v",
      "execution_count": null,
      "outputs": []
    },
    {
      "cell_type": "markdown",
      "source": [
        "We can scale the weights of the first layer to help the network with decision making. "
      ],
      "metadata": {
        "id": "ZJduQXLFTlqW"
      },
      "id": "ZJduQXLFTlqW"
    },
    {
      "cell_type": "code",
      "source": [
        "with torch.no_grad():\n",
        "  ann_copy[0].weight *= 5"
      ],
      "metadata": {
        "id": "FBvmnIJvPQg-"
      },
      "id": "FBvmnIJvPQg-",
      "execution_count": null,
      "outputs": []
    },
    {
      "cell_type": "code",
      "source": [
        "snn = sinabs.from_torch.from_model(ann_copy, input_shape=(1, 128, 128), add_spiking_output=True)\n",
        "snn"
      ],
      "metadata": {
        "id": "KecYTlVOz_4K",
        "colab": {
          "base_uri": "https://localhost:8080/"
        },
        "outputId": "73ee6296-b3d1-4e2b-a2dd-1ea814254fed"
      },
      "id": "KecYTlVOz_4K",
      "execution_count": null,
      "outputs": [
        {
          "output_type": "execute_result",
          "data": {
            "text/plain": [
              "Network(\n",
              "  (spiking_model): ANN(\n",
              "    (0): Conv2d(1, 16, kernel_size=(3, 3), stride=(2, 2), padding=(1, 1), bias=False)\n",
              "    (1): IAFSqueeze\n",
              "    (2): AvgPool2d(kernel_size=(2, 2), stride=(2, 2), padding=0)\n",
              "    (3): Dropout2d(p=0.1, inplace=False)\n",
              "    (4): Conv2d(16, 32, kernel_size=(3, 3), stride=(2, 2), padding=(1, 1), bias=False)\n",
              "    (5): IAFSqueeze\n",
              "    (6): AvgPool2d(kernel_size=(2, 2), stride=(2, 2), padding=0)\n",
              "    (7): Dropout2d(p=0.25, inplace=False)\n",
              "    (8): Conv2d(32, 32, kernel_size=(3, 3), stride=(1, 1), padding=(1, 1), bias=False)\n",
              "    (9): IAFSqueeze\n",
              "    (10): AvgPool2d(kernel_size=(2, 2), stride=(2, 2), padding=0)\n",
              "    (11): Flatten(start_dim=1, end_dim=-1)\n",
              "    (12): Dropout2d(p=0.5, inplace=False)\n",
              "    (13): Linear(in_features=512, out_features=7, bias=False)\n",
              "    (Spiking output): IAFSqueeze\n",
              "  )\n",
              "  (analog_model): ANN(\n",
              "    (0): Conv2d(1, 16, kernel_size=(3, 3), stride=(2, 2), padding=(1, 1), bias=False)\n",
              "    (1): ReLU()\n",
              "    (2): AvgPool2d(kernel_size=(2, 2), stride=(2, 2), padding=0)\n",
              "    (3): Dropout2d(p=0.1, inplace=False)\n",
              "    (4): Conv2d(16, 32, kernel_size=(3, 3), stride=(2, 2), padding=(1, 1), bias=False)\n",
              "    (5): ReLU()\n",
              "    (6): AvgPool2d(kernel_size=(2, 2), stride=(2, 2), padding=0)\n",
              "    (7): Dropout2d(p=0.25, inplace=False)\n",
              "    (8): Conv2d(32, 32, kernel_size=(3, 3), stride=(1, 1), padding=(1, 1), bias=False)\n",
              "    (9): ReLU()\n",
              "    (10): AvgPool2d(kernel_size=(2, 2), stride=(2, 2), padding=0)\n",
              "    (11): Flatten(start_dim=1, end_dim=-1)\n",
              "    (12): Dropout2d(p=0.5, inplace=False)\n",
              "    (13): Linear(in_features=512, out_features=7, bias=False)\n",
              "  )\n",
              ")"
            ]
          },
          "metadata": {},
          "execution_count": 20
        }
      ]
    },
    {
      "cell_type": "code",
      "source": [
        "torch.save(snn, 'model.pth')"
      ],
      "metadata": {
        "id": "fHdIM9xR2qZJ"
      },
      "id": "fHdIM9xR2qZJ",
      "execution_count": null,
      "outputs": []
    },
    {
      "cell_type": "markdown",
      "source": [
        "## Evaluate converted SNN on raster data\n",
        "\n",
        "### Event Representation\n",
        "\n",
        "For spiking neural networks (SNNs) we use a similar representation to the frames we used for the ANN. However, here we want to maintain a notion of time, to mimick the neuron dynamics on the neuromorphic processor. We therefore arrange our events in time along a grid of very short intervals, corresponding to a simulation time step. This time step should be chosen small enough such that the neuron dynamics are well approximated. On the other hand, choosing it too short will slow down our simulations. We will come back to this later, when we do inference on a SNN."
      ],
      "metadata": {
        "id": "X_VHbLVpdtr8"
      },
      "id": "X_VHbLVpdtr8"
    },
    {
      "cell_type": "code",
      "source": [
        "from body_postures import BodyPostureEvents"
      ],
      "metadata": {
        "id": "fElIESQWdjnd"
      },
      "id": "fElIESQWdjnd",
      "execution_count": null,
      "outputs": []
    },
    {
      "cell_type": "code",
      "source": [
        "try:\n",
        "  snn = torch.load('model.pth')\n",
        "  print(\"Loaded saved model.\")\n",
        "except Exception as e:\n",
        "  print(e)"
      ],
      "metadata": {
        "id": "Y0WjZyYY2_ET",
        "colab": {
          "base_uri": "https://localhost:8080/"
        },
        "outputId": "b995b76b-819a-4026-8e84-ccb81073565b"
      },
      "id": "Y0WjZyYY2_ET",
      "execution_count": null,
      "outputs": [
        {
          "output_type": "stream",
          "name": "stdout",
          "text": [
            "Loaded saved model.\n"
          ]
        }
      ]
    },
    {
      "cell_type": "code",
      "source": [
        "?BodyPostureEvents"
      ],
      "metadata": {
        "id": "DAL0yf24ZRa0"
      },
      "id": "DAL0yf24ZRa0",
      "execution_count": null,
      "outputs": []
    },
    {
      "cell_type": "code",
      "source": [
        "slice_dt = 2e6 # microseconds\n",
        "bin_dt = 2e3\n",
        "batch_size = 1\n",
        "\n",
        "raster_test_dataset = BodyPostureEvents(\n",
        "    data_path=dataset_path / \"data\" / \"test\",\n",
        "    cache_path=f\"cache/test/{slice_dt}/{bin_dt}\",\n",
        "    slice_dt=slice_dt,\n",
        "    bin_dt=bin_dt,\n",
        "    metadata_path=f\"metadata/raster/test/{slice_dt}/{bin_dt}\",\n",
        "    hot_pixel_filter_freq=hot_pixel_filter_freq,\n",
        ")\n",
        "\n",
        "test_loader = DataLoader(raster_test_dataset, shuffle=True, batch_size=batch_size)"
      ],
      "metadata": {
        "id": "H17nrFCgdxZR",
        "colab": {
          "base_uri": "https://localhost:8080/"
        },
        "outputId": "c154ca09-c9a5-4839-a6be-f63dd22cd209"
      },
      "id": "H17nrFCgdxZR",
      "execution_count": null,
      "outputs": [
        {
          "output_type": "stream",
          "name": "stdout",
          "text": [
            "Metadata written to disk.\n"
          ]
        }
      ]
    },
    {
      "cell_type": "code",
      "source": [
        "device = \"cuda\" if torch.cuda.is_available() else \"cpu\"\n",
        "\n",
        "snn.eval()\n",
        "snn = snn.to(device)\n",
        "\n",
        "val_data = []\n",
        "batch_loss = []\n",
        "for data, labels in tqdm(test_loader):\n",
        "  with torch.no_grad():\n",
        "    snn.reset_states()\n",
        "    data = data.to(device)\n",
        "    data = data.flatten(0, 1).float()\n",
        "    spikes = snn(data).unflatten(0, (batch_size, -1))\n",
        "\n",
        "    # Collect outputs and labels\n",
        "    labels = labels.to(device)\n",
        "    predictions = spikes.sum(1).argmax(dim=1) \n",
        "    val_data.append(predictions.eq(labels.view_as(predictions)))\n",
        "    print(f\"Spike output: {spikes.sum(1).int().tolist()[0]}, label was {labels.item()}. Overall accuracy: {round((sum(val_data)/len(val_data)).item(), 3)}\")  "
      ],
      "metadata": {
        "id": "2da1idK4ekvE",
        "colab": {
          "base_uri": "https://localhost:8080/",
          "height": 1000,
          "referenced_widgets": [
            "6f33fec98c324ee5967e8b7246f5629b",
            "cd289f24476941cf8554bed7ef748e85",
            "ecbe781d70964ad1afaaadde258c3933",
            "faf60190e5ff4589ab866bd8f30d2fd2",
            "5716e30646854bdb9b17829db907c2ca",
            "a278c9672fbd4b5cb1abc55691a6bf6a",
            "a47f41e8d15c466ba7875a121fa1b5b8",
            "f5d569e027da46ccb843a095617ede64",
            "93b214d34a6b47038a0f45c72231a360",
            "343beb7fe15b42b8a6a41186469a2ddc",
            "dac54eb3d336433a984f025573b21cd3"
          ]
        },
        "outputId": "ffe20bc2-abd0-4c4d-a750-7bad02be7fea"
      },
      "id": "2da1idK4ekvE",
      "execution_count": null,
      "outputs": [
        {
          "output_type": "display_data",
          "data": {
            "text/plain": [
              "  0%|          | 0/263 [00:00<?, ?it/s]"
            ],
            "application/vnd.jupyter.widget-view+json": {
              "version_major": 2,
              "version_minor": 0,
              "model_id": "6f33fec98c324ee5967e8b7246f5629b"
            }
          },
          "metadata": {}
        },
        {
          "output_type": "stream",
          "name": "stdout",
          "text": [
            "Spike output: [0, 4, 1, 4, 0, 0, 0], label was 3. Overall accuracy: 0.0\n",
            "Spike output: [0, 3, 0, 4, 3, 0, 0], label was 3. Overall accuracy: 0.5\n",
            "Spike output: [0, 3, 1, 5, 2, 0, 0], label was 3. Overall accuracy: 0.667\n",
            "Spike output: [0, 4, 1, 1, 2, 0, 0], label was 4. Overall accuracy: 0.5\n",
            "Spike output: [0, 15, 0, 0, 0, 36, 0], label was 5. Overall accuracy: 0.6\n",
            "Spike output: [0, 0, 16, 3, 3, 0, 0], label was 2. Overall accuracy: 0.667\n",
            "Spike output: [0, 13, 0, 0, 0, 28, 0], label was 5. Overall accuracy: 0.714\n",
            "Spike output: [0, 0, 0, 0, 0, 26, 0], label was 5. Overall accuracy: 0.75\n",
            "Spike output: [0, 6, 5, 4, 6, 0, 0], label was 4. Overall accuracy: 0.667\n",
            "Spike output: [0, 0, 0, 0, 0, 31, 0], label was 5. Overall accuracy: 0.7\n",
            "Spike output: [0, 2, 1, 6, 1, 0, 0], label was 3. Overall accuracy: 0.727\n",
            "Spike output: [0, 9, 7, 7, 7, 0, 0], label was 4. Overall accuracy: 0.667\n",
            "Spike output: [0, 11, 0, 0, 0, 26, 0], label was 5. Overall accuracy: 0.692\n",
            "Spike output: [0, 4, 1, 3, 2, 0, 0], label was 3. Overall accuracy: 0.643\n",
            "Spike output: [0, 7, 1, 0, 3, 0, 0], label was 4. Overall accuracy: 0.6\n",
            "Spike output: [0, 0, 14, 0, 2, 0, 3], label was 2. Overall accuracy: 0.625\n",
            "Spike output: [0, 7, 9, 6, 6, 0, 0], label was 4. Overall accuracy: 0.588\n",
            "Spike output: [0, 1, 14, 3, 2, 0, 0], label was 2. Overall accuracy: 0.611\n",
            "Spike output: [0, 2, 0, 0, 0, 23, 0], label was 5. Overall accuracy: 0.632\n",
            "Spike output: [0, 4, 2, 5, 1, 0, 0], label was 3. Overall accuracy: 0.65\n",
            "Spike output: [0, 5, 3, 2, 3, 0, 0], label was 4. Overall accuracy: 0.619\n",
            "Spike output: [0, 10, 0, 0, 4, 0, 0], label was 1. Overall accuracy: 0.636\n",
            "Spike output: [0, 0, 0, 6, 0, 0, 0], label was 3. Overall accuracy: 0.652\n",
            "Spike output: [0, 6, 6, 1, 5, 0, 0], label was 4. Overall accuracy: 0.625\n",
            "Spike output: [0, 4, 1, 7, 1, 0, 0], label was 3. Overall accuracy: 0.64\n",
            "Spike output: [0, 5, 2, 6, 2, 0, 0], label was 3. Overall accuracy: 0.654\n",
            "Spike output: [0, 0, 0, 0, 0, 14, 0], label was 5. Overall accuracy: 0.667\n",
            "Spike output: [0, 1, 15, 3, 3, 0, 0], label was 2. Overall accuracy: 0.679\n",
            "Spike output: [0, 11, 3, 0, 3, 0, 0], label was 1. Overall accuracy: 0.69\n",
            "Spike output: [0, 8, 6, 2, 8, 0, 0], label was 4. Overall accuracy: 0.667\n",
            "Spike output: [0, 7, 0, 0, 0, 28, 0], label was 5. Overall accuracy: 0.677\n",
            "Spike output: [0, 0, 0, 0, 0, 41, 0], label was 5. Overall accuracy: 0.688\n",
            "Spike output: [0, 18, 4, 0, 5, 0, 0], label was 1. Overall accuracy: 0.697\n",
            "Spike output: [0, 5, 1, 0, 4, 0, 0], label was 4. Overall accuracy: 0.676\n",
            "Spike output: [0, 3, 0, 8, 2, 0, 0], label was 3. Overall accuracy: 0.686\n",
            "Spike output: [0, 9, 6, 3, 8, 0, 0], label was 4. Overall accuracy: 0.667\n",
            "Spike output: [0, 6, 1, 0, 3, 0, 0], label was 4. Overall accuracy: 0.649\n",
            "Spike output: [0, 10, 0, 0, 0, 0, 0], label was 1. Overall accuracy: 0.658\n",
            "Spike output: [0, 5, 0, 0, 0, 22, 0], label was 5. Overall accuracy: 0.667\n",
            "Spike output: [0, 0, 0, 0, 0, 35, 0], label was 5. Overall accuracy: 0.675\n",
            "Spike output: [0, 1, 0, 0, 0, 27, 0], label was 5. Overall accuracy: 0.683\n",
            "Spike output: [0, 5, 0, 0, 0, 23, 0], label was 5. Overall accuracy: 0.69\n",
            "Spike output: [0, 5, 0, 1, 2, 0, 0], label was 4. Overall accuracy: 0.674\n",
            "Spike output: [0, 5, 10, 0, 2, 0, 0], label was 2. Overall accuracy: 0.682\n",
            "Spike output: [0, 1, 19, 25, 0, 0, 37], label was 6. Overall accuracy: 0.689\n",
            "Spike output: [0, 4, 1, 2, 1, 0, 0], label was 3. Overall accuracy: 0.674\n",
            "Spike output: [0, 0, 18, 13, 7, 0, 0], label was 2. Overall accuracy: 0.681\n",
            "Spike output: [0, 3, 2, 7, 1, 0, 0], label was 3. Overall accuracy: 0.688\n",
            "Spike output: [0, 1, 8, 1, 1, 0, 0], label was 2. Overall accuracy: 0.694\n",
            "Spike output: [0, 7, 7, 4, 6, 0, 0], label was 4. Overall accuracy: 0.68\n",
            "Spike output: [0, 10, 5, 1, 4, 0, 0], label was 4. Overall accuracy: 0.667\n",
            "Spike output: [0, 8, 4, 2, 5, 0, 0], label was 4. Overall accuracy: 0.654\n",
            "Spike output: [0, 10, 1, 0, 3, 0, 0], label was 1. Overall accuracy: 0.66\n",
            "Spike output: [0, 10, 9, 6, 7, 0, 0], label was 4. Overall accuracy: 0.648\n",
            "Spike output: [0, 0, 7, 0, 1, 0, 0], label was 2. Overall accuracy: 0.655\n",
            "Spike output: [0, 1, 0, 0, 0, 21, 0], label was 5. Overall accuracy: 0.661\n",
            "Spike output: [0, 3, 2, 2, 0, 0, 0], label was 3. Overall accuracy: 0.649\n",
            "Spike output: [0, 4, 9, 0, 2, 0, 0], label was 2. Overall accuracy: 0.655\n",
            "Spike output: [0, 0, 13, 0, 0, 0, 2], label was 2. Overall accuracy: 0.661\n",
            "Spike output: [0, 6, 4, 0, 3, 0, 0], label was 4. Overall accuracy: 0.65\n",
            "Spike output: [0, 11, 0, 0, 4, 0, 0], label was 1. Overall accuracy: 0.656\n",
            "Spike output: [0, 5, 1, 5, 2, 0, 0], label was 3. Overall accuracy: 0.645\n",
            "Spike output: [0, 1, 9, 0, 1, 0, 0], label was 2. Overall accuracy: 0.651\n"
          ]
        },
        {
          "output_type": "error",
          "ename": "KeyboardInterrupt",
          "evalue": "ignored",
          "traceback": [
            "\u001b[0;31m---------------------------------------------------------------------------\u001b[0m",
            "\u001b[0;31mOSError\u001b[0m                                   Traceback (most recent call last)",
            "\u001b[0;32m/usr/local/lib/python3.7/dist-packages/tonic/cached_dataset.py\u001b[0m in \u001b[0;36m__getitem__\u001b[0;34m(self, item)\u001b[0m\n\u001b[1;32m    119\u001b[0m         \u001b[0;32mtry\u001b[0m\u001b[0;34m:\u001b[0m\u001b[0;34m\u001b[0m\u001b[0;34m\u001b[0m\u001b[0m\n\u001b[0;32m--> 120\u001b[0;31m             \u001b[0mdata\u001b[0m\u001b[0;34m,\u001b[0m \u001b[0mtargets\u001b[0m \u001b[0;34m=\u001b[0m \u001b[0mload_from_disk_cache\u001b[0m\u001b[0;34m(\u001b[0m\u001b[0mfile_path\u001b[0m\u001b[0;34m)\u001b[0m\u001b[0;34m\u001b[0m\u001b[0;34m\u001b[0m\u001b[0m\n\u001b[0m\u001b[1;32m    121\u001b[0m         \u001b[0;32mexcept\u001b[0m \u001b[0;34m(\u001b[0m\u001b[0mFileNotFoundError\u001b[0m\u001b[0;34m,\u001b[0m \u001b[0mOSError\u001b[0m\u001b[0;34m)\u001b[0m \u001b[0;32mas\u001b[0m \u001b[0m_\u001b[0m\u001b[0;34m:\u001b[0m\u001b[0;34m\u001b[0m\u001b[0;34m\u001b[0m\u001b[0m\n",
            "\u001b[0;32m/usr/local/lib/python3.7/dist-packages/tonic/cached_dataset.py\u001b[0m in \u001b[0;36mload_from_disk_cache\u001b[0;34m(file_path)\u001b[0m\n\u001b[1;32m    190\u001b[0m     \u001b[0mtarget_list\u001b[0m \u001b[0;34m=\u001b[0m \u001b[0;34m[\u001b[0m\u001b[0;34m]\u001b[0m\u001b[0;34m\u001b[0m\u001b[0;34m\u001b[0m\u001b[0m\n\u001b[0;32m--> 191\u001b[0;31m     \u001b[0;32mwith\u001b[0m \u001b[0mh5py\u001b[0m\u001b[0;34m.\u001b[0m\u001b[0mFile\u001b[0m\u001b[0;34m(\u001b[0m\u001b[0mfile_path\u001b[0m\u001b[0;34m,\u001b[0m \u001b[0;34m\"r\"\u001b[0m\u001b[0;34m)\u001b[0m \u001b[0;32mas\u001b[0m \u001b[0mf\u001b[0m\u001b[0;34m:\u001b[0m\u001b[0;34m\u001b[0m\u001b[0;34m\u001b[0m\u001b[0m\n\u001b[0m\u001b[1;32m    192\u001b[0m         \u001b[0;32mfor\u001b[0m \u001b[0mname\u001b[0m\u001b[0;34m,\u001b[0m \u001b[0m_list\u001b[0m \u001b[0;32min\u001b[0m \u001b[0mzip\u001b[0m\u001b[0;34m(\u001b[0m\u001b[0;34m[\u001b[0m\u001b[0;34m\"data\"\u001b[0m\u001b[0;34m,\u001b[0m \u001b[0;34m\"target\"\u001b[0m\u001b[0;34m]\u001b[0m\u001b[0;34m,\u001b[0m \u001b[0;34m[\u001b[0m\u001b[0mdata_list\u001b[0m\u001b[0;34m,\u001b[0m \u001b[0mtarget_list\u001b[0m\u001b[0;34m]\u001b[0m\u001b[0;34m)\u001b[0m\u001b[0;34m:\u001b[0m\u001b[0;34m\u001b[0m\u001b[0;34m\u001b[0m\u001b[0m\n",
            "\u001b[0;32m/usr/local/lib/python3.7/dist-packages/h5py/_hl/files.py\u001b[0m in \u001b[0;36m__init__\u001b[0;34m(self, name, mode, driver, libver, userblock_size, swmr, rdcc_nslots, rdcc_nbytes, rdcc_w0, track_order, fs_strategy, fs_persist, fs_threshold, **kwds)\u001b[0m\n\u001b[1;32m    426\u001b[0m                                fs_persist=fs_persist, fs_threshold=fs_threshold),\n\u001b[0;32m--> 427\u001b[0;31m                                swmr=swmr)\n\u001b[0m\u001b[1;32m    428\u001b[0m \u001b[0;34m\u001b[0m\u001b[0m\n",
            "\u001b[0;32m/usr/local/lib/python3.7/dist-packages/h5py/_hl/files.py\u001b[0m in \u001b[0;36mmake_fid\u001b[0;34m(name, mode, userblock_size, fapl, fcpl, swmr)\u001b[0m\n\u001b[1;32m    189\u001b[0m             \u001b[0mflags\u001b[0m \u001b[0;34m|=\u001b[0m \u001b[0mh5f\u001b[0m\u001b[0;34m.\u001b[0m\u001b[0mACC_SWMR_READ\u001b[0m\u001b[0;34m\u001b[0m\u001b[0;34m\u001b[0m\u001b[0m\n\u001b[0;32m--> 190\u001b[0;31m         \u001b[0mfid\u001b[0m \u001b[0;34m=\u001b[0m \u001b[0mh5f\u001b[0m\u001b[0;34m.\u001b[0m\u001b[0mopen\u001b[0m\u001b[0;34m(\u001b[0m\u001b[0mname\u001b[0m\u001b[0;34m,\u001b[0m \u001b[0mflags\u001b[0m\u001b[0;34m,\u001b[0m \u001b[0mfapl\u001b[0m\u001b[0;34m=\u001b[0m\u001b[0mfapl\u001b[0m\u001b[0;34m)\u001b[0m\u001b[0;34m\u001b[0m\u001b[0;34m\u001b[0m\u001b[0m\n\u001b[0m\u001b[1;32m    191\u001b[0m     \u001b[0;32melif\u001b[0m \u001b[0mmode\u001b[0m \u001b[0;34m==\u001b[0m \u001b[0;34m'r+'\u001b[0m\u001b[0;34m:\u001b[0m\u001b[0;34m\u001b[0m\u001b[0;34m\u001b[0m\u001b[0m\n",
            "\u001b[0;32mh5py/_objects.pyx\u001b[0m in \u001b[0;36mh5py._objects.with_phil.wrapper\u001b[0;34m()\u001b[0m\n",
            "\u001b[0;32mh5py/_objects.pyx\u001b[0m in \u001b[0;36mh5py._objects.with_phil.wrapper\u001b[0;34m()\u001b[0m\n",
            "\u001b[0;32mh5py/h5f.pyx\u001b[0m in \u001b[0;36mh5py.h5f.open\u001b[0;34m()\u001b[0m\n",
            "\u001b[0;31mOSError\u001b[0m: Unable to open file (unable to open file: name = 'cache/test/2000000.0/2000.0/102_0.hdf5', errno = 2, error message = 'No such file or directory', flags = 0, o_flags = 0)",
            "\nDuring handling of the above exception, another exception occurred:\n",
            "\u001b[0;31mKeyboardInterrupt\u001b[0m                         Traceback (most recent call last)",
            "\u001b[0;32m<ipython-input-26-b90cf8e82d45>\u001b[0m in \u001b[0;36m<module>\u001b[0;34m()\u001b[0m\n\u001b[1;32m      6\u001b[0m \u001b[0mval_data\u001b[0m \u001b[0;34m=\u001b[0m \u001b[0;34m[\u001b[0m\u001b[0;34m]\u001b[0m\u001b[0;34m\u001b[0m\u001b[0;34m\u001b[0m\u001b[0m\n\u001b[1;32m      7\u001b[0m \u001b[0mbatch_loss\u001b[0m \u001b[0;34m=\u001b[0m \u001b[0;34m[\u001b[0m\u001b[0;34m]\u001b[0m\u001b[0;34m\u001b[0m\u001b[0;34m\u001b[0m\u001b[0m\n\u001b[0;32m----> 8\u001b[0;31m \u001b[0;32mfor\u001b[0m \u001b[0mdata\u001b[0m\u001b[0;34m,\u001b[0m \u001b[0mlabels\u001b[0m \u001b[0;32min\u001b[0m \u001b[0mtqdm\u001b[0m\u001b[0;34m(\u001b[0m\u001b[0mtest_loader\u001b[0m\u001b[0;34m)\u001b[0m\u001b[0;34m:\u001b[0m\u001b[0;34m\u001b[0m\u001b[0;34m\u001b[0m\u001b[0m\n\u001b[0m\u001b[1;32m      9\u001b[0m   \u001b[0;32mwith\u001b[0m \u001b[0mtorch\u001b[0m\u001b[0;34m.\u001b[0m\u001b[0mno_grad\u001b[0m\u001b[0;34m(\u001b[0m\u001b[0;34m)\u001b[0m\u001b[0;34m:\u001b[0m\u001b[0;34m\u001b[0m\u001b[0;34m\u001b[0m\u001b[0m\n\u001b[1;32m     10\u001b[0m     \u001b[0msnn\u001b[0m\u001b[0;34m.\u001b[0m\u001b[0mreset_states\u001b[0m\u001b[0;34m(\u001b[0m\u001b[0;34m)\u001b[0m\u001b[0;34m\u001b[0m\u001b[0;34m\u001b[0m\u001b[0m\n",
            "\u001b[0;32m/usr/local/lib/python3.7/dist-packages/tqdm/notebook.py\u001b[0m in \u001b[0;36m__iter__\u001b[0;34m(self)\u001b[0m\n\u001b[1;32m    255\u001b[0m     \u001b[0;32mdef\u001b[0m \u001b[0m__iter__\u001b[0m\u001b[0;34m(\u001b[0m\u001b[0mself\u001b[0m\u001b[0;34m)\u001b[0m\u001b[0;34m:\u001b[0m\u001b[0;34m\u001b[0m\u001b[0;34m\u001b[0m\u001b[0m\n\u001b[1;32m    256\u001b[0m         \u001b[0;32mtry\u001b[0m\u001b[0;34m:\u001b[0m\u001b[0;34m\u001b[0m\u001b[0;34m\u001b[0m\u001b[0m\n\u001b[0;32m--> 257\u001b[0;31m             \u001b[0;32mfor\u001b[0m \u001b[0mobj\u001b[0m \u001b[0;32min\u001b[0m \u001b[0msuper\u001b[0m\u001b[0;34m(\u001b[0m\u001b[0mtqdm_notebook\u001b[0m\u001b[0;34m,\u001b[0m \u001b[0mself\u001b[0m\u001b[0;34m)\u001b[0m\u001b[0;34m.\u001b[0m\u001b[0m__iter__\u001b[0m\u001b[0;34m(\u001b[0m\u001b[0;34m)\u001b[0m\u001b[0;34m:\u001b[0m\u001b[0;34m\u001b[0m\u001b[0;34m\u001b[0m\u001b[0m\n\u001b[0m\u001b[1;32m    258\u001b[0m                 \u001b[0;31m# return super(tqdm...) will not catch exception\u001b[0m\u001b[0;34m\u001b[0m\u001b[0;34m\u001b[0m\u001b[0;34m\u001b[0m\u001b[0m\n\u001b[1;32m    259\u001b[0m                 \u001b[0;32myield\u001b[0m \u001b[0mobj\u001b[0m\u001b[0;34m\u001b[0m\u001b[0;34m\u001b[0m\u001b[0m\n",
            "\u001b[0;32m/usr/local/lib/python3.7/dist-packages/tqdm/std.py\u001b[0m in \u001b[0;36m__iter__\u001b[0;34m(self)\u001b[0m\n\u001b[1;32m   1193\u001b[0m \u001b[0;34m\u001b[0m\u001b[0m\n\u001b[1;32m   1194\u001b[0m         \u001b[0;32mtry\u001b[0m\u001b[0;34m:\u001b[0m\u001b[0;34m\u001b[0m\u001b[0;34m\u001b[0m\u001b[0m\n\u001b[0;32m-> 1195\u001b[0;31m             \u001b[0;32mfor\u001b[0m \u001b[0mobj\u001b[0m \u001b[0;32min\u001b[0m \u001b[0miterable\u001b[0m\u001b[0;34m:\u001b[0m\u001b[0;34m\u001b[0m\u001b[0;34m\u001b[0m\u001b[0m\n\u001b[0m\u001b[1;32m   1196\u001b[0m                 \u001b[0;32myield\u001b[0m \u001b[0mobj\u001b[0m\u001b[0;34m\u001b[0m\u001b[0;34m\u001b[0m\u001b[0m\n\u001b[1;32m   1197\u001b[0m                 \u001b[0;31m# Update and possibly print the progressbar.\u001b[0m\u001b[0;34m\u001b[0m\u001b[0;34m\u001b[0m\u001b[0;34m\u001b[0m\u001b[0m\n",
            "\u001b[0;32m/usr/local/lib/python3.7/dist-packages/torch/utils/data/dataloader.py\u001b[0m in \u001b[0;36m__next__\u001b[0;34m(self)\u001b[0m\n\u001b[1;32m    519\u001b[0m             \u001b[0;32mif\u001b[0m \u001b[0mself\u001b[0m\u001b[0;34m.\u001b[0m\u001b[0m_sampler_iter\u001b[0m \u001b[0;32mis\u001b[0m \u001b[0;32mNone\u001b[0m\u001b[0;34m:\u001b[0m\u001b[0;34m\u001b[0m\u001b[0;34m\u001b[0m\u001b[0m\n\u001b[1;32m    520\u001b[0m                 \u001b[0mself\u001b[0m\u001b[0;34m.\u001b[0m\u001b[0m_reset\u001b[0m\u001b[0;34m(\u001b[0m\u001b[0;34m)\u001b[0m\u001b[0;34m\u001b[0m\u001b[0;34m\u001b[0m\u001b[0m\n\u001b[0;32m--> 521\u001b[0;31m             \u001b[0mdata\u001b[0m \u001b[0;34m=\u001b[0m \u001b[0mself\u001b[0m\u001b[0;34m.\u001b[0m\u001b[0m_next_data\u001b[0m\u001b[0;34m(\u001b[0m\u001b[0;34m)\u001b[0m\u001b[0;34m\u001b[0m\u001b[0;34m\u001b[0m\u001b[0m\n\u001b[0m\u001b[1;32m    522\u001b[0m             \u001b[0mself\u001b[0m\u001b[0;34m.\u001b[0m\u001b[0m_num_yielded\u001b[0m \u001b[0;34m+=\u001b[0m \u001b[0;36m1\u001b[0m\u001b[0;34m\u001b[0m\u001b[0;34m\u001b[0m\u001b[0m\n\u001b[1;32m    523\u001b[0m             \u001b[0;32mif\u001b[0m \u001b[0mself\u001b[0m\u001b[0;34m.\u001b[0m\u001b[0m_dataset_kind\u001b[0m \u001b[0;34m==\u001b[0m \u001b[0m_DatasetKind\u001b[0m\u001b[0;34m.\u001b[0m\u001b[0mIterable\u001b[0m \u001b[0;32mand\u001b[0m\u001b[0;31m \u001b[0m\u001b[0;31m\\\u001b[0m\u001b[0;34m\u001b[0m\u001b[0;34m\u001b[0m\u001b[0m\n",
            "\u001b[0;32m/usr/local/lib/python3.7/dist-packages/torch/utils/data/dataloader.py\u001b[0m in \u001b[0;36m_next_data\u001b[0;34m(self)\u001b[0m\n\u001b[1;32m    559\u001b[0m     \u001b[0;32mdef\u001b[0m \u001b[0m_next_data\u001b[0m\u001b[0;34m(\u001b[0m\u001b[0mself\u001b[0m\u001b[0;34m)\u001b[0m\u001b[0;34m:\u001b[0m\u001b[0;34m\u001b[0m\u001b[0;34m\u001b[0m\u001b[0m\n\u001b[1;32m    560\u001b[0m         \u001b[0mindex\u001b[0m \u001b[0;34m=\u001b[0m \u001b[0mself\u001b[0m\u001b[0;34m.\u001b[0m\u001b[0m_next_index\u001b[0m\u001b[0;34m(\u001b[0m\u001b[0;34m)\u001b[0m  \u001b[0;31m# may raise StopIteration\u001b[0m\u001b[0;34m\u001b[0m\u001b[0;34m\u001b[0m\u001b[0m\n\u001b[0;32m--> 561\u001b[0;31m         \u001b[0mdata\u001b[0m \u001b[0;34m=\u001b[0m \u001b[0mself\u001b[0m\u001b[0;34m.\u001b[0m\u001b[0m_dataset_fetcher\u001b[0m\u001b[0;34m.\u001b[0m\u001b[0mfetch\u001b[0m\u001b[0;34m(\u001b[0m\u001b[0mindex\u001b[0m\u001b[0;34m)\u001b[0m  \u001b[0;31m# may raise StopIteration\u001b[0m\u001b[0;34m\u001b[0m\u001b[0;34m\u001b[0m\u001b[0m\n\u001b[0m\u001b[1;32m    562\u001b[0m         \u001b[0;32mif\u001b[0m \u001b[0mself\u001b[0m\u001b[0;34m.\u001b[0m\u001b[0m_pin_memory\u001b[0m\u001b[0;34m:\u001b[0m\u001b[0;34m\u001b[0m\u001b[0;34m\u001b[0m\u001b[0m\n\u001b[1;32m    563\u001b[0m             \u001b[0mdata\u001b[0m \u001b[0;34m=\u001b[0m \u001b[0m_utils\u001b[0m\u001b[0;34m.\u001b[0m\u001b[0mpin_memory\u001b[0m\u001b[0;34m.\u001b[0m\u001b[0mpin_memory\u001b[0m\u001b[0;34m(\u001b[0m\u001b[0mdata\u001b[0m\u001b[0;34m)\u001b[0m\u001b[0;34m\u001b[0m\u001b[0;34m\u001b[0m\u001b[0m\n",
            "\u001b[0;32m/usr/local/lib/python3.7/dist-packages/torch/utils/data/_utils/fetch.py\u001b[0m in \u001b[0;36mfetch\u001b[0;34m(self, possibly_batched_index)\u001b[0m\n\u001b[1;32m     47\u001b[0m     \u001b[0;32mdef\u001b[0m \u001b[0mfetch\u001b[0m\u001b[0;34m(\u001b[0m\u001b[0mself\u001b[0m\u001b[0;34m,\u001b[0m \u001b[0mpossibly_batched_index\u001b[0m\u001b[0;34m)\u001b[0m\u001b[0;34m:\u001b[0m\u001b[0;34m\u001b[0m\u001b[0;34m\u001b[0m\u001b[0m\n\u001b[1;32m     48\u001b[0m         \u001b[0;32mif\u001b[0m \u001b[0mself\u001b[0m\u001b[0;34m.\u001b[0m\u001b[0mauto_collation\u001b[0m\u001b[0;34m:\u001b[0m\u001b[0;34m\u001b[0m\u001b[0;34m\u001b[0m\u001b[0m\n\u001b[0;32m---> 49\u001b[0;31m             \u001b[0mdata\u001b[0m \u001b[0;34m=\u001b[0m \u001b[0;34m[\u001b[0m\u001b[0mself\u001b[0m\u001b[0;34m.\u001b[0m\u001b[0mdataset\u001b[0m\u001b[0;34m[\u001b[0m\u001b[0midx\u001b[0m\u001b[0;34m]\u001b[0m \u001b[0;32mfor\u001b[0m \u001b[0midx\u001b[0m \u001b[0;32min\u001b[0m \u001b[0mpossibly_batched_index\u001b[0m\u001b[0;34m]\u001b[0m\u001b[0;34m\u001b[0m\u001b[0;34m\u001b[0m\u001b[0m\n\u001b[0m\u001b[1;32m     50\u001b[0m         \u001b[0;32melse\u001b[0m\u001b[0;34m:\u001b[0m\u001b[0;34m\u001b[0m\u001b[0;34m\u001b[0m\u001b[0m\n\u001b[1;32m     51\u001b[0m             \u001b[0mdata\u001b[0m \u001b[0;34m=\u001b[0m \u001b[0mself\u001b[0m\u001b[0;34m.\u001b[0m\u001b[0mdataset\u001b[0m\u001b[0;34m[\u001b[0m\u001b[0mpossibly_batched_index\u001b[0m\u001b[0;34m]\u001b[0m\u001b[0;34m\u001b[0m\u001b[0;34m\u001b[0m\u001b[0m\n",
            "\u001b[0;32m/usr/local/lib/python3.7/dist-packages/torch/utils/data/_utils/fetch.py\u001b[0m in \u001b[0;36m<listcomp>\u001b[0;34m(.0)\u001b[0m\n\u001b[1;32m     47\u001b[0m     \u001b[0;32mdef\u001b[0m \u001b[0mfetch\u001b[0m\u001b[0;34m(\u001b[0m\u001b[0mself\u001b[0m\u001b[0;34m,\u001b[0m \u001b[0mpossibly_batched_index\u001b[0m\u001b[0;34m)\u001b[0m\u001b[0;34m:\u001b[0m\u001b[0;34m\u001b[0m\u001b[0;34m\u001b[0m\u001b[0m\n\u001b[1;32m     48\u001b[0m         \u001b[0;32mif\u001b[0m \u001b[0mself\u001b[0m\u001b[0;34m.\u001b[0m\u001b[0mauto_collation\u001b[0m\u001b[0;34m:\u001b[0m\u001b[0;34m\u001b[0m\u001b[0;34m\u001b[0m\u001b[0m\n\u001b[0;32m---> 49\u001b[0;31m             \u001b[0mdata\u001b[0m \u001b[0;34m=\u001b[0m \u001b[0;34m[\u001b[0m\u001b[0mself\u001b[0m\u001b[0;34m.\u001b[0m\u001b[0mdataset\u001b[0m\u001b[0;34m[\u001b[0m\u001b[0midx\u001b[0m\u001b[0;34m]\u001b[0m \u001b[0;32mfor\u001b[0m \u001b[0midx\u001b[0m \u001b[0;32min\u001b[0m \u001b[0mpossibly_batched_index\u001b[0m\u001b[0;34m]\u001b[0m\u001b[0;34m\u001b[0m\u001b[0;34m\u001b[0m\u001b[0m\n\u001b[0m\u001b[1;32m     50\u001b[0m         \u001b[0;32melse\u001b[0m\u001b[0;34m:\u001b[0m\u001b[0;34m\u001b[0m\u001b[0;34m\u001b[0m\u001b[0m\n\u001b[1;32m     51\u001b[0m             \u001b[0mdata\u001b[0m \u001b[0;34m=\u001b[0m \u001b[0mself\u001b[0m\u001b[0;34m.\u001b[0m\u001b[0mdataset\u001b[0m\u001b[0;34m[\u001b[0m\u001b[0mpossibly_batched_index\u001b[0m\u001b[0;34m]\u001b[0m\u001b[0;34m\u001b[0m\u001b[0;34m\u001b[0m\u001b[0m\n",
            "\u001b[0;32m/usr/local/lib/python3.7/dist-packages/tonic/cached_dataset.py\u001b[0m in \u001b[0;36m__getitem__\u001b[0;34m(self, item)\u001b[0m\n\u001b[1;32m    126\u001b[0m             \u001b[0mdata\u001b[0m\u001b[0;34m,\u001b[0m \u001b[0mtargets\u001b[0m \u001b[0;34m=\u001b[0m \u001b[0mself\u001b[0m\u001b[0;34m.\u001b[0m\u001b[0mdataset\u001b[0m\u001b[0;34m[\u001b[0m\u001b[0mitem\u001b[0m\u001b[0;34m]\u001b[0m\u001b[0;34m\u001b[0m\u001b[0;34m\u001b[0m\u001b[0m\n\u001b[1;32m    127\u001b[0m             save_to_disk_cache(\n\u001b[0;32m--> 128\u001b[0;31m                 \u001b[0mdata\u001b[0m\u001b[0;34m,\u001b[0m \u001b[0mtargets\u001b[0m\u001b[0;34m,\u001b[0m \u001b[0mfile_path\u001b[0m\u001b[0;34m=\u001b[0m\u001b[0mfile_path\u001b[0m\u001b[0;34m,\u001b[0m \u001b[0mcompression\u001b[0m\u001b[0;34m=\u001b[0m\u001b[0mself\u001b[0m\u001b[0;34m.\u001b[0m\u001b[0mcompression\u001b[0m\u001b[0;34m\u001b[0m\u001b[0;34m\u001b[0m\u001b[0m\n\u001b[0m\u001b[1;32m    129\u001b[0m             )\n\u001b[1;32m    130\u001b[0m             \u001b[0;31m# format might change during save to hdf5,\u001b[0m\u001b[0;34m\u001b[0m\u001b[0;34m\u001b[0m\u001b[0;34m\u001b[0m\u001b[0m\n",
            "\u001b[0;32m/usr/local/lib/python3.7/dist-packages/tonic/cached_dataset.py\u001b[0m in \u001b[0;36msave_to_disk_cache\u001b[0;34m(data, targets, file_path, compression)\u001b[0m\n\u001b[1;32m    175\u001b[0m                         \u001b[0mcompression\u001b[0m\u001b[0;34m=\u001b[0m\u001b[0;34m\"lzf\"\u001b[0m\u001b[0;34m\u001b[0m\u001b[0;34m\u001b[0m\u001b[0m\n\u001b[1;32m    176\u001b[0m                         \u001b[0;32mif\u001b[0m \u001b[0mtype\u001b[0m\u001b[0;34m(\u001b[0m\u001b[0mdata_piece\u001b[0m\u001b[0;34m)\u001b[0m \u001b[0;34m==\u001b[0m \u001b[0mnp\u001b[0m\u001b[0;34m.\u001b[0m\u001b[0mndarray\u001b[0m \u001b[0;32mand\u001b[0m \u001b[0mcompression\u001b[0m\u001b[0;34m\u001b[0m\u001b[0;34m\u001b[0m\u001b[0m\n\u001b[0;32m--> 177\u001b[0;31m                         \u001b[0;32melse\u001b[0m \u001b[0;32mNone\u001b[0m\u001b[0;34m,\u001b[0m\u001b[0;34m\u001b[0m\u001b[0;34m\u001b[0m\u001b[0m\n\u001b[0m\u001b[1;32m    178\u001b[0m                     )\n\u001b[1;32m    179\u001b[0m \u001b[0;34m\u001b[0m\u001b[0m\n",
            "\u001b[0;32m/usr/local/lib/python3.7/dist-packages/h5py/_hl/group.py\u001b[0m in \u001b[0;36mcreate_dataset\u001b[0;34m(self, name, shape, dtype, data, **kwds)\u001b[0m\n\u001b[1;32m    146\u001b[0m                     \u001b[0mgroup\u001b[0m \u001b[0;34m=\u001b[0m \u001b[0mself\u001b[0m\u001b[0;34m.\u001b[0m\u001b[0mrequire_group\u001b[0m\u001b[0;34m(\u001b[0m\u001b[0mparent_path\u001b[0m\u001b[0;34m)\u001b[0m\u001b[0;34m\u001b[0m\u001b[0;34m\u001b[0m\u001b[0m\n\u001b[1;32m    147\u001b[0m \u001b[0;34m\u001b[0m\u001b[0m\n\u001b[0;32m--> 148\u001b[0;31m             \u001b[0mdsid\u001b[0m \u001b[0;34m=\u001b[0m \u001b[0mdataset\u001b[0m\u001b[0;34m.\u001b[0m\u001b[0mmake_new_dset\u001b[0m\u001b[0;34m(\u001b[0m\u001b[0mgroup\u001b[0m\u001b[0;34m,\u001b[0m \u001b[0mshape\u001b[0m\u001b[0;34m,\u001b[0m \u001b[0mdtype\u001b[0m\u001b[0;34m,\u001b[0m \u001b[0mdata\u001b[0m\u001b[0;34m,\u001b[0m \u001b[0mname\u001b[0m\u001b[0;34m,\u001b[0m \u001b[0;34m**\u001b[0m\u001b[0mkwds\u001b[0m\u001b[0;34m)\u001b[0m\u001b[0;34m\u001b[0m\u001b[0;34m\u001b[0m\u001b[0m\n\u001b[0m\u001b[1;32m    149\u001b[0m             \u001b[0mdset\u001b[0m \u001b[0;34m=\u001b[0m \u001b[0mdataset\u001b[0m\u001b[0;34m.\u001b[0m\u001b[0mDataset\u001b[0m\u001b[0;34m(\u001b[0m\u001b[0mdsid\u001b[0m\u001b[0;34m)\u001b[0m\u001b[0;34m\u001b[0m\u001b[0;34m\u001b[0m\u001b[0m\n\u001b[1;32m    150\u001b[0m             \u001b[0;32mreturn\u001b[0m \u001b[0mdset\u001b[0m\u001b[0;34m\u001b[0m\u001b[0;34m\u001b[0m\u001b[0m\n",
            "\u001b[0;32m/usr/local/lib/python3.7/dist-packages/h5py/_hl/dataset.py\u001b[0m in \u001b[0;36mmake_new_dset\u001b[0;34m(parent, shape, dtype, data, name, chunks, compression, shuffle, fletcher32, maxshape, compression_opts, fillvalue, scaleoffset, track_times, external, track_order, dcpl, allow_unknown_filter)\u001b[0m\n\u001b[1;32m    138\u001b[0m \u001b[0;34m\u001b[0m\u001b[0m\n\u001b[1;32m    139\u001b[0m     \u001b[0;32mif\u001b[0m \u001b[0;34m(\u001b[0m\u001b[0mdata\u001b[0m \u001b[0;32mis\u001b[0m \u001b[0;32mnot\u001b[0m \u001b[0;32mNone\u001b[0m\u001b[0;34m)\u001b[0m \u001b[0;32mand\u001b[0m \u001b[0;34m(\u001b[0m\u001b[0;32mnot\u001b[0m \u001b[0misinstance\u001b[0m\u001b[0;34m(\u001b[0m\u001b[0mdata\u001b[0m\u001b[0;34m,\u001b[0m \u001b[0mEmpty\u001b[0m\u001b[0;34m)\u001b[0m\u001b[0;34m)\u001b[0m\u001b[0;34m:\u001b[0m\u001b[0;34m\u001b[0m\u001b[0;34m\u001b[0m\u001b[0m\n\u001b[0;32m--> 140\u001b[0;31m         \u001b[0mdset_id\u001b[0m\u001b[0;34m.\u001b[0m\u001b[0mwrite\u001b[0m\u001b[0;34m(\u001b[0m\u001b[0mh5s\u001b[0m\u001b[0;34m.\u001b[0m\u001b[0mALL\u001b[0m\u001b[0;34m,\u001b[0m \u001b[0mh5s\u001b[0m\u001b[0;34m.\u001b[0m\u001b[0mALL\u001b[0m\u001b[0;34m,\u001b[0m \u001b[0mdata\u001b[0m\u001b[0;34m)\u001b[0m\u001b[0;34m\u001b[0m\u001b[0;34m\u001b[0m\u001b[0m\n\u001b[0m\u001b[1;32m    141\u001b[0m \u001b[0;34m\u001b[0m\u001b[0m\n\u001b[1;32m    142\u001b[0m     \u001b[0;32mreturn\u001b[0m \u001b[0mdset_id\u001b[0m\u001b[0;34m\u001b[0m\u001b[0;34m\u001b[0m\u001b[0m\n",
            "\u001b[0;31mKeyboardInterrupt\u001b[0m: "
          ]
        }
      ]
    },
    {
      "cell_type": "code",
      "source": [
        ""
      ],
      "metadata": {
        "id": "5193LM6bRAJT"
      },
      "id": "5193LM6bRAJT",
      "execution_count": null,
      "outputs": []
    }
  ],
  "metadata": {
    "colab": {
      "name": "Copy of Copy of Copy of AMLD_train_full.ipynb",
      "provenance": [],
      "collapsed_sections": []
    },
    "kernelspec": {
      "display_name": "Python 3 (ipykernel)",
      "language": "python",
      "name": "python3"
    },
    "language_info": {
      "codemirror_mode": {
        "name": "ipython",
        "version": 3
      },
      "file_extension": ".py",
      "mimetype": "text/x-python",
      "name": "python",
      "nbconvert_exporter": "python",
      "pygments_lexer": "ipython3",
      "version": "3.9.7"
    },
    "accelerator": "GPU",
    "widgets": {
      "application/vnd.jupyter.widget-state+json": {
        "6f33fec98c324ee5967e8b7246f5629b": {
          "model_module": "@jupyter-widgets/controls",
          "model_name": "HBoxModel",
          "model_module_version": "1.5.0",
          "state": {
            "_dom_classes": [],
            "_model_module": "@jupyter-widgets/controls",
            "_model_module_version": "1.5.0",
            "_model_name": "HBoxModel",
            "_view_count": null,
            "_view_module": "@jupyter-widgets/controls",
            "_view_module_version": "1.5.0",
            "_view_name": "HBoxView",
            "box_style": "",
            "children": [
              "IPY_MODEL_cd289f24476941cf8554bed7ef748e85",
              "IPY_MODEL_ecbe781d70964ad1afaaadde258c3933",
              "IPY_MODEL_faf60190e5ff4589ab866bd8f30d2fd2"
            ],
            "layout": "IPY_MODEL_5716e30646854bdb9b17829db907c2ca"
          }
        },
        "cd289f24476941cf8554bed7ef748e85": {
          "model_module": "@jupyter-widgets/controls",
          "model_name": "HTMLModel",
          "model_module_version": "1.5.0",
          "state": {
            "_dom_classes": [],
            "_model_module": "@jupyter-widgets/controls",
            "_model_module_version": "1.5.0",
            "_model_name": "HTMLModel",
            "_view_count": null,
            "_view_module": "@jupyter-widgets/controls",
            "_view_module_version": "1.5.0",
            "_view_name": "HTMLView",
            "description": "",
            "description_tooltip": null,
            "layout": "IPY_MODEL_a278c9672fbd4b5cb1abc55691a6bf6a",
            "placeholder": "​",
            "style": "IPY_MODEL_a47f41e8d15c466ba7875a121fa1b5b8",
            "value": " 24%"
          }
        },
        "ecbe781d70964ad1afaaadde258c3933": {
          "model_module": "@jupyter-widgets/controls",
          "model_name": "FloatProgressModel",
          "model_module_version": "1.5.0",
          "state": {
            "_dom_classes": [],
            "_model_module": "@jupyter-widgets/controls",
            "_model_module_version": "1.5.0",
            "_model_name": "FloatProgressModel",
            "_view_count": null,
            "_view_module": "@jupyter-widgets/controls",
            "_view_module_version": "1.5.0",
            "_view_name": "ProgressView",
            "bar_style": "danger",
            "description": "",
            "description_tooltip": null,
            "layout": "IPY_MODEL_f5d569e027da46ccb843a095617ede64",
            "max": 263,
            "min": 0,
            "orientation": "horizontal",
            "style": "IPY_MODEL_93b214d34a6b47038a0f45c72231a360",
            "value": 63
          }
        },
        "faf60190e5ff4589ab866bd8f30d2fd2": {
          "model_module": "@jupyter-widgets/controls",
          "model_name": "HTMLModel",
          "model_module_version": "1.5.0",
          "state": {
            "_dom_classes": [],
            "_model_module": "@jupyter-widgets/controls",
            "_model_module_version": "1.5.0",
            "_model_name": "HTMLModel",
            "_view_count": null,
            "_view_module": "@jupyter-widgets/controls",
            "_view_module_version": "1.5.0",
            "_view_name": "HTMLView",
            "description": "",
            "description_tooltip": null,
            "layout": "IPY_MODEL_343beb7fe15b42b8a6a41186469a2ddc",
            "placeholder": "​",
            "style": "IPY_MODEL_dac54eb3d336433a984f025573b21cd3",
            "value": " 63/263 [01:37&lt;04:52,  1.46s/it]"
          }
        },
        "5716e30646854bdb9b17829db907c2ca": {
          "model_module": "@jupyter-widgets/base",
          "model_name": "LayoutModel",
          "model_module_version": "1.2.0",
          "state": {
            "_model_module": "@jupyter-widgets/base",
            "_model_module_version": "1.2.0",
            "_model_name": "LayoutModel",
            "_view_count": null,
            "_view_module": "@jupyter-widgets/base",
            "_view_module_version": "1.2.0",
            "_view_name": "LayoutView",
            "align_content": null,
            "align_items": null,
            "align_self": null,
            "border": null,
            "bottom": null,
            "display": null,
            "flex": null,
            "flex_flow": null,
            "grid_area": null,
            "grid_auto_columns": null,
            "grid_auto_flow": null,
            "grid_auto_rows": null,
            "grid_column": null,
            "grid_gap": null,
            "grid_row": null,
            "grid_template_areas": null,
            "grid_template_columns": null,
            "grid_template_rows": null,
            "height": null,
            "justify_content": null,
            "justify_items": null,
            "left": null,
            "margin": null,
            "max_height": null,
            "max_width": null,
            "min_height": null,
            "min_width": null,
            "object_fit": null,
            "object_position": null,
            "order": null,
            "overflow": null,
            "overflow_x": null,
            "overflow_y": null,
            "padding": null,
            "right": null,
            "top": null,
            "visibility": null,
            "width": null
          }
        },
        "a278c9672fbd4b5cb1abc55691a6bf6a": {
          "model_module": "@jupyter-widgets/base",
          "model_name": "LayoutModel",
          "model_module_version": "1.2.0",
          "state": {
            "_model_module": "@jupyter-widgets/base",
            "_model_module_version": "1.2.0",
            "_model_name": "LayoutModel",
            "_view_count": null,
            "_view_module": "@jupyter-widgets/base",
            "_view_module_version": "1.2.0",
            "_view_name": "LayoutView",
            "align_content": null,
            "align_items": null,
            "align_self": null,
            "border": null,
            "bottom": null,
            "display": null,
            "flex": null,
            "flex_flow": null,
            "grid_area": null,
            "grid_auto_columns": null,
            "grid_auto_flow": null,
            "grid_auto_rows": null,
            "grid_column": null,
            "grid_gap": null,
            "grid_row": null,
            "grid_template_areas": null,
            "grid_template_columns": null,
            "grid_template_rows": null,
            "height": null,
            "justify_content": null,
            "justify_items": null,
            "left": null,
            "margin": null,
            "max_height": null,
            "max_width": null,
            "min_height": null,
            "min_width": null,
            "object_fit": null,
            "object_position": null,
            "order": null,
            "overflow": null,
            "overflow_x": null,
            "overflow_y": null,
            "padding": null,
            "right": null,
            "top": null,
            "visibility": null,
            "width": null
          }
        },
        "a47f41e8d15c466ba7875a121fa1b5b8": {
          "model_module": "@jupyter-widgets/controls",
          "model_name": "DescriptionStyleModel",
          "model_module_version": "1.5.0",
          "state": {
            "_model_module": "@jupyter-widgets/controls",
            "_model_module_version": "1.5.0",
            "_model_name": "DescriptionStyleModel",
            "_view_count": null,
            "_view_module": "@jupyter-widgets/base",
            "_view_module_version": "1.2.0",
            "_view_name": "StyleView",
            "description_width": ""
          }
        },
        "f5d569e027da46ccb843a095617ede64": {
          "model_module": "@jupyter-widgets/base",
          "model_name": "LayoutModel",
          "model_module_version": "1.2.0",
          "state": {
            "_model_module": "@jupyter-widgets/base",
            "_model_module_version": "1.2.0",
            "_model_name": "LayoutModel",
            "_view_count": null,
            "_view_module": "@jupyter-widgets/base",
            "_view_module_version": "1.2.0",
            "_view_name": "LayoutView",
            "align_content": null,
            "align_items": null,
            "align_self": null,
            "border": null,
            "bottom": null,
            "display": null,
            "flex": null,
            "flex_flow": null,
            "grid_area": null,
            "grid_auto_columns": null,
            "grid_auto_flow": null,
            "grid_auto_rows": null,
            "grid_column": null,
            "grid_gap": null,
            "grid_row": null,
            "grid_template_areas": null,
            "grid_template_columns": null,
            "grid_template_rows": null,
            "height": null,
            "justify_content": null,
            "justify_items": null,
            "left": null,
            "margin": null,
            "max_height": null,
            "max_width": null,
            "min_height": null,
            "min_width": null,
            "object_fit": null,
            "object_position": null,
            "order": null,
            "overflow": null,
            "overflow_x": null,
            "overflow_y": null,
            "padding": null,
            "right": null,
            "top": null,
            "visibility": null,
            "width": null
          }
        },
        "93b214d34a6b47038a0f45c72231a360": {
          "model_module": "@jupyter-widgets/controls",
          "model_name": "ProgressStyleModel",
          "model_module_version": "1.5.0",
          "state": {
            "_model_module": "@jupyter-widgets/controls",
            "_model_module_version": "1.5.0",
            "_model_name": "ProgressStyleModel",
            "_view_count": null,
            "_view_module": "@jupyter-widgets/base",
            "_view_module_version": "1.2.0",
            "_view_name": "StyleView",
            "bar_color": null,
            "description_width": ""
          }
        },
        "343beb7fe15b42b8a6a41186469a2ddc": {
          "model_module": "@jupyter-widgets/base",
          "model_name": "LayoutModel",
          "model_module_version": "1.2.0",
          "state": {
            "_model_module": "@jupyter-widgets/base",
            "_model_module_version": "1.2.0",
            "_model_name": "LayoutModel",
            "_view_count": null,
            "_view_module": "@jupyter-widgets/base",
            "_view_module_version": "1.2.0",
            "_view_name": "LayoutView",
            "align_content": null,
            "align_items": null,
            "align_self": null,
            "border": null,
            "bottom": null,
            "display": null,
            "flex": null,
            "flex_flow": null,
            "grid_area": null,
            "grid_auto_columns": null,
            "grid_auto_flow": null,
            "grid_auto_rows": null,
            "grid_column": null,
            "grid_gap": null,
            "grid_row": null,
            "grid_template_areas": null,
            "grid_template_columns": null,
            "grid_template_rows": null,
            "height": null,
            "justify_content": null,
            "justify_items": null,
            "left": null,
            "margin": null,
            "max_height": null,
            "max_width": null,
            "min_height": null,
            "min_width": null,
            "object_fit": null,
            "object_position": null,
            "order": null,
            "overflow": null,
            "overflow_x": null,
            "overflow_y": null,
            "padding": null,
            "right": null,
            "top": null,
            "visibility": null,
            "width": null
          }
        },
        "dac54eb3d336433a984f025573b21cd3": {
          "model_module": "@jupyter-widgets/controls",
          "model_name": "DescriptionStyleModel",
          "model_module_version": "1.5.0",
          "state": {
            "_model_module": "@jupyter-widgets/controls",
            "_model_module_version": "1.5.0",
            "_model_name": "DescriptionStyleModel",
            "_view_count": null,
            "_view_module": "@jupyter-widgets/base",
            "_view_module_version": "1.2.0",
            "_view_name": "StyleView",
            "description_width": ""
          }
        }
      }
    }
  },
  "nbformat": 4,
  "nbformat_minor": 5
}