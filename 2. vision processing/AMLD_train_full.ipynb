{
  "cells": [
    {
      "cell_type": "markdown",
      "metadata": {
        "id": "view-in-github",
        "colab_type": "text"
      },
      "source": [
        "<a href=\"https://colab.research.google.com/github/synsense/snn-workshop-amld-2022/blob/master/2.%20vision%20processing/AMLD_train_full.ipynb\" target=\"_parent\"><img src=\"https://colab.research.google.com/assets/colab-badge.svg\" alt=\"Open In Colab\"/></a>"
      ]
    },
    {
      "cell_type": "markdown",
      "id": "8c6f220d-c625-40d9-90cc-4bf94b5b51b0",
      "metadata": {
        "id": "8c6f220d-c625-40d9-90cc-4bf94b5b51b0"
      },
      "source": [
        "# Dance recognition training - full\n",
        "\n",
        "## Setup\n",
        "First we download the dataset and install missing packages."
      ]
    },
    {
      "cell_type": "code",
      "execution_count": 1,
      "id": "oKkZE2mBvULV",
      "metadata": {
        "colab": {
          "base_uri": "https://localhost:8080/"
        },
        "id": "oKkZE2mBvULV",
        "outputId": "fcc8fa59-4d3b-4422-dcbb-6263990242b8"
      },
      "outputs": [
        {
          "output_type": "stream",
          "name": "stdout",
          "text": [
            "body-postures-datas 100%[===================>] 276.29M  13.7MB/s    in 16s     \n",
            "\u001b[33m  DEPRECATION: A future pip version will change local packages to be built in-place without first copying to a temporary directory. We recommend you use --use-feature=in-tree-build to test your packages with this new behavior before it becomes the default.\n",
            "   pip 21.3 will remove support for this functionality. You can find discussion regarding this at https://github.com/pypa/pip/issues/7555.\u001b[0m\n",
            "\u001b[K     |████████████████████████████████| 79 kB 3.1 MB/s \n",
            "\u001b[?25h  Building wheel for body-postures (setup.py) ... \u001b[?25l\u001b[?25hdone\n",
            "  Building wheel for importRosbag (setup.py) ... \u001b[?25l\u001b[?25hdone\n",
            "\u001b[K     |████████████████████████████████| 397 kB 4.2 MB/s \n",
            "\u001b[?25h"
          ]
        }
      ],
      "source": [
        "### --- Download and install dataset\n",
        "import zipfile\n",
        "from pathlib import Path\n",
        "\n",
        "dataset_path = Path(\"/content\") / \"body-postures-dataset\"\n",
        "\n",
        "if not dataset_path.exists():\n",
        "  !wget -q --show-progress https://www.dropbox.com/s/b9gfafnh6aesrsu/body-postures-dataset.bin\n",
        "  # alternative mirror: https://lenzgregor.com/nextcloud/s/tbamCq9Eo95qfLc/download/body-postures-dataset.bin\n",
        "  !mv body-postures-dataset.bin body-postures-dataset.tar.gz\n",
        "  !tar -xzf body-postures-dataset.tar.gz\n",
        "\n",
        "!pip install ./body-postures-dataset --quiet\n",
        "!pip install torchmetrics --quiet"
      ]
    },
    {
      "cell_type": "code",
      "execution_count": 2,
      "id": "b430d407-1cf2-44d8-a40c-a0a18e178489",
      "metadata": {
        "id": "b430d407-1cf2-44d8-a40c-a0a18e178489"
      },
      "outputs": [],
      "source": [
        "import torch\n",
        "import torchmetrics\n",
        "import torchvision\n",
        "import numpy as np\n",
        "import matplotlib.pyplot as plt\n",
        "from torch import nn\n",
        "from tqdm.auto import tqdm\n",
        "from torch.utils.data import DataLoader\n",
        "from torch.utils.data.sampler import WeightedRandomSampler\n",
        "\n",
        "from body_postures import BodyPostureFrames"
      ]
    },
    {
      "cell_type": "markdown",
      "id": "25e34c81-5d62-41e6-bba8-c4ba432db4a0",
      "metadata": {
        "id": "25e34c81-5d62-41e6-bba8-c4ba432db4a0"
      },
      "source": [
        "## Data inspection\n",
        "\n",
        "The dataset is imbalanced. Let's look at training and testing set distribution and rectify the training set by using weighted random sampling."
      ]
    },
    {
      "cell_type": "code",
      "source": [
        "?BodyPostureFrames"
      ],
      "metadata": {
        "id": "nhdPEU8-YTuD"
      },
      "id": "nhdPEU8-YTuD",
      "execution_count": 3,
      "outputs": []
    },
    {
      "cell_type": "code",
      "execution_count": 4,
      "id": "bb4c86a1-e473-449a-b189-76a88a95769a",
      "metadata": {
        "id": "bb4c86a1-e473-449a-b189-76a88a95769a",
        "colab": {
          "base_uri": "https://localhost:8080/"
        },
        "outputId": "5cec02ce-e505-4d36-97c9-bd84d6f6bb80"
      },
      "outputs": [
        {
          "output_type": "stream",
          "name": "stdout",
          "text": [
            "Metadata written to disk.\n",
            "Metadata written to disk.\n"
          ]
        }
      ],
      "source": [
        "event_count = 3000\n",
        "hot_pixel_filter_freq = 60\n",
        "\n",
        "frame_dataset_training = BodyPostureFrames(\n",
        "    data_path=dataset_path / \"data\" / \"train\",\n",
        "    event_count=event_count,\n",
        "    hot_pixel_filter_freq=hot_pixel_filter_freq,\n",
        "    metadata_path=f'metadata/frames/train/{event_count}events_{hot_pixel_filter_freq}filter',\n",
        ")\n",
        "\n",
        "frame_dataset_validation = BodyPostureFrames(\n",
        "    data_path=dataset_path / \"data\" / \"test\",\n",
        "    event_count=event_count,\n",
        "    hot_pixel_filter_freq=hot_pixel_filter_freq,\n",
        "    metadata_path=f'metadata/frames/test/{event_count}events_{hot_pixel_filter_freq}filter',\n",
        ")\n",
        "classes = frame_dataset_training.classes\n",
        "shape = frame_dataset_training.shape\n",
        "n_classes = len(classes)\n"
      ]
    },
    {
      "cell_type": "code",
      "source": [
        "def get_weight_sampler(dataset):\n",
        "  targets = []\n",
        "  for data, target in iter(dataset):\n",
        "    targets.append(target)\n",
        "  targets = np.array(targets)\n",
        "\n",
        "  count = np.bincount(targets)\n",
        "  frac = count / np.sum(count)\n",
        "  sample_weights_per_class = dict(zip(range(n_classes), 1 / frac / count.sum()))\n",
        "\n",
        "  sample_weights = [sample_weights_per_class[target] for target in targets]\n",
        "  sampler = WeightedRandomSampler(sample_weights, len(dataset), replacement=True)\n",
        "  return sampler"
      ],
      "metadata": {
        "id": "u-TeJyex-jHU"
      },
      "id": "u-TeJyex-jHU",
      "execution_count": 5,
      "outputs": []
    },
    {
      "cell_type": "code",
      "source": [
        "batch_size = 256\n",
        "train_loader = DataLoader(\n",
        "    dataset=frame_dataset_training, \n",
        "    batch_size=batch_size,\n",
        "    sampler=get_weight_sampler(frame_dataset_training)\n",
        "    )\n",
        "\n",
        "test_loader = DataLoader(\n",
        "    dataset=frame_dataset_validation,\n",
        "    batch_size=batch_size,\n",
        "    )"
      ],
      "metadata": {
        "id": "2EHJFbrQ00G4"
      },
      "id": "2EHJFbrQ00G4",
      "execution_count": 6,
      "outputs": []
    },
    {
      "cell_type": "code",
      "source": [
        "def plot_sample_dist(dataloader):\n",
        "  resampled_targets = []\n",
        "  for data, target in iter(dataloader):\n",
        "    resampled_targets.append(target)\n",
        "  resampled_targets = torch.cat(resampled_targets).numpy()\n",
        "\n",
        "  plt.bar(classes.keys(), np.bincount(resampled_targets))\n",
        "  plt.ylabel(\"Number of samples\")"
      ],
      "metadata": {
        "id": "EJ3jS12g_Uvp"
      },
      "id": "EJ3jS12g_Uvp",
      "execution_count": 7,
      "outputs": []
    },
    {
      "cell_type": "code",
      "source": [
        "plot_sample_dist(train_loader)"
      ],
      "metadata": {
        "id": "0F5HnnSuAjZZ",
        "colab": {
          "base_uri": "https://localhost:8080/",
          "height": 265
        },
        "outputId": "6e8f59a7-102a-454c-d500-6258a0387664"
      },
      "id": "0F5HnnSuAjZZ",
      "execution_count": 8,
      "outputs": [
        {
          "output_type": "display_data",
          "data": {
            "text/plain": [
              "<Figure size 432x288 with 1 Axes>"
            ],
            "image/png": "[encoded data removed]"
          },
          "metadata": {
            "needs_background": "light"
          }
        }
      ]
    },
    {
      "cell_type": "code",
      "source": [
        "plot_sample_dist(test_loader)"
      ],
      "metadata": {
        "id": "TkFhBEcR_icT",
        "colab": {
          "base_uri": "https://localhost:8080/",
          "height": 265
        },
        "outputId": "c48f0e4d-fde7-4859-cbcb-fa707f5cb7f1"
      },
      "id": "TkFhBEcR_icT",
      "execution_count": 9,
      "outputs": [
        {
          "output_type": "display_data",
          "data": {
            "text/plain": [
              "<Figure size 432x288 with 1 Axes>"
            ],
            "image/png": "[encoded data removed]"
          },
          "metadata": {
            "needs_background": "light"
          }
        }
      ]
    },
    {
      "cell_type": "markdown",
      "id": "a5e91720-80f1-4126-8593-4630c5b7b5d3",
      "metadata": {
        "id": "a5e91720-80f1-4126-8593-4630c5b7b5d3"
      },
      "source": [
        "### Settings and hyperparameters"
      ]
    },
    {
      "cell_type": "code",
      "execution_count": 10,
      "id": "af5f2504-9edf-42ff-aca6-ec5018bbd53b",
      "metadata": {
        "id": "af5f2504-9edf-42ff-aca6-ec5018bbd53b",
        "colab": {
          "base_uri": "https://localhost:8080/"
        },
        "outputId": "7fdd2849-790f-4451-982e-d1f7d873aea4"
      },
      "outputs": [
        {
          "output_type": "stream",
          "name": "stdout",
          "text": [
            "Using device cuda.\n"
          ]
        }
      ],
      "source": [
        "learning_rate = 1e-3\n",
        "weight_decay = 0\n",
        "device = \"cuda\" if torch.cuda.is_available() else \"cpu\"\n",
        "print(f\"Using device {device}.\")"
      ]
    },
    {
      "cell_type": "markdown",
      "id": "31e251d3-a334-4a84-85d2-e4cafa79e8ec",
      "metadata": {
        "id": "31e251d3-a334-4a84-85d2-e4cafa79e8ec"
      },
      "source": [
        "### Model definition"
      ]
    },
    {
      "cell_type": "code",
      "execution_count": 11,
      "id": "fa05cdb9-08ac-4cab-b3d0-0c9c2d705b73",
      "metadata": {
        "id": "fa05cdb9-08ac-4cab-b3d0-0c9c2d705b73"
      },
      "outputs": [],
      "source": [
        "class ANN(nn.Sequential):\n",
        "    def __init__(self, n_classes=10):\n",
        "        super().__init__(\n",
        "            nn.Conv2d(1, 16, kernel_size=(3, 3), stride=2, padding=1, bias=False),  # 16, 64, 64\n",
        "            nn.ReLU(),\n",
        "            nn.AvgPool2d(kernel_size=(2, 2)),  # 16, 32, 32\n",
        "            nn.Dropout2d(0.1),\n",
        "            \n",
        "            nn.Conv2d(16, 32, kernel_size=(3, 3), stride=2, padding=1, bias=False),  # 32, 16, 16\n",
        "            nn.ReLU(),\n",
        "            nn.AvgPool2d(kernel_size=(2, 2)),  # 32, 8, 8\n",
        "            nn.Dropout2d(0.25),\n",
        "            \n",
        "            nn.Conv2d(32, 32, kernel_size=(3, 3), stride=1, padding=1, bias=False),  # 64, 4, 4\n",
        "            nn.ReLU(),\n",
        "            nn.AvgPool2d(kernel_size=(2, 2)),  # 64, 2, 2\n",
        "            nn.Flatten(),\n",
        "            nn.Dropout2d(0.5),\n",
        "            \n",
        "            nn.Linear(32*4*4, n_classes, bias=False),\n",
        "        )"
      ]
    },
    {
      "cell_type": "code",
      "execution_count": 12,
      "id": "00852d7d-324e-4175-bf0f-0159eefe9206",
      "metadata": {
        "id": "00852d7d-324e-4175-bf0f-0159eefe9206",
        "colab": {
          "base_uri": "https://localhost:8080/",
          "height": 77,
          "referenced_widgets": [
            "3b9061c0764e44c787d192c0d092df79",
            "722876d2c45947f09d5a98400f1b9390",
            "221764db1fc94fd49c04fbc726126831",
            "68c98c623ee749119c3479dd550d344b",
            "b1039e5dfbb5404595c0df086a634d88",
            "975a54ad0a4b4802aa3afef5194c3e4c",
            "8aef9c2b8c3b406188e2fda83313120c",
            "caf618ce2cbd44c0a44ec053f97d7f9b",
            "b70bff920de1401b98e22fc72b5af269",
            "ba7d5863656d4560b2a2930d95c8b25b",
            "2b5120cb20b941a69ded84a0ff30af79"
          ]
        },
        "outputId": "bb3c9d8c-4b22-451c-c99d-940ee3d728e5"
      },
      "outputs": [
        {
          "output_type": "display_data",
          "data": {
            "text/plain": [
              "Epochs:   0%|          | 0/10 [00:00<?, ?it/s]"
            ],
            "application/vnd.jupyter.widget-view+json": {
              "version_major": 2,
              "version_minor": 0,
              "model_id": "3b9061c0764e44c787d192c0d092df79"
            }
          },
          "metadata": {}
        }
      ],
      "source": [
        "ann = ANN(n_classes).to(device)\n",
        "\n",
        "# - Loss\n",
        "criterion = torch.nn.CrossEntropyLoss()\n",
        "\n",
        "# - Optimizer\n",
        "optimizer = torch.optim.Adam(ann.parameters(), lr=learning_rate, weight_decay=weight_decay)\n",
        "\n",
        "# - Confusion matrix\n",
        "confusion_matrix = torchmetrics.ConfusionMatrix(num_classes=n_classes)\n",
        "\n",
        "num_epochs = 10\n",
        "validate_every = 5\n",
        "\n",
        "# We use augmentation because we're oversampling underrepresented classes. \n",
        "augmentation = torchvision.transforms.RandomAffine(degrees=10, translate=[0.1, 0.1])\n",
        "\n",
        "# Track losses\n",
        "training_losses = []\n",
        "val_losses = []\n",
        "val_accuracy = 0\n",
        "val_loss = 0\n",
        "\n",
        "pbar_epoch = tqdm(range(num_epochs), desc=\"Epochs\")\n",
        "for epoch in pbar_epoch:\n",
        "    batch_loss = []\n",
        "    for data, labels in iter(train_loader):\n",
        "        # Forward pass\n",
        "        data = data.to(device)\n",
        "        data = augmentation(data)\n",
        "        logits = ann(data)\n",
        "        # Loss for current batch\n",
        "        loss = criterion(logits, labels.to(device))\n",
        "        # Backward pass\n",
        "        loss.backward()\n",
        "        # Update parameters\n",
        "        optimizer.step()\n",
        "        optimizer.zero_grad()\n",
        "        batch_loss.append(loss.item())\n",
        "\n",
        "    train_loss = sum(batch_loss) / len(batch_loss)\n",
        "    training_losses.append(train_loss)\n",
        "    pbar_epoch.set_postfix(train_loss=train_loss, val_loss=val_loss, val_acc=val_accuracy)\n",
        "    \n",
        "    # Validation\n",
        "    if validate_every is not None and (epoch + 1) % validate_every == 0:\n",
        "        with torch.no_grad():\n",
        "            val_data = []\n",
        "            batch_loss = []\n",
        "            for data, labels in iter(test_loader):\n",
        "                logits = ann(data.to(device))\n",
        "                # Loss\n",
        "                loss = criterion(logits, labels.to(device))\n",
        "                batch_loss.append(loss.item())\n",
        "                # Collect outputs and labels\n",
        "                predictions = torch.max(logits, dim=1)[1]\n",
        "                val_data.append((predictions.detach().cpu(), labels.detach().cpu()))\n",
        "            \n",
        "            val_loss = sum(batch_loss) / len(batch_loss)\n",
        "            val_losses.append(val_loss)\n",
        "\n",
        "            # Calculate accuracy\n",
        "            confusion_list = [confusion_matrix(pred, label) for pred, label in val_data]\n",
        "            confusion = torch.stack(confusion_list).sum(0)\n",
        "            val_accuracy = (confusion.trace() / confusion.sum()).item()\n",
        "            \n",
        "        pbar_epoch.set_postfix(train_loss=train_loss, val_loss=val_loss, val_acc=val_accuracy)\n",
        "            \n",
        "\n",
        "        "
      ]
    },
    {
      "cell_type": "code",
      "source": [
        "plt.plot(training_losses)\n",
        "plt.plot(range(0, len(training_losses), validate_every), val_losses)"
      ],
      "metadata": {
        "id": "VTNnYWTph-NT",
        "colab": {
          "base_uri": "https://localhost:8080/",
          "height": 282
        },
        "outputId": "93c399ad-95ea-41e9-d3d9-5fd7e69ff72a"
      },
      "id": "VTNnYWTph-NT",
      "execution_count": 13,
      "outputs": [
        {
          "output_type": "execute_result",
          "data": {
            "text/plain": [
              "[<matplotlib.lines.Line2D at 0x7f6ae0aa3e50>]"
            ]
          },
          "metadata": {},
          "execution_count": 13
        },
        {
          "output_type": "display_data",
          "data": {
            "text/plain": [
              "<Figure size 432x288 with 1 Axes>"
            ],
            "image/png": "[encoded data removed]"
          },
          "metadata": {
            "needs_background": "light"
          }
        }
      ]
    },
    {
      "cell_type": "markdown",
      "source": [
        "# Convert ANN to SNN"
      ],
      "metadata": {
        "id": "LWRzKLNyMpLr"
      },
      "id": "LWRzKLNyMpLr"
    },
    {
      "cell_type": "code",
      "source": [
        "ann"
      ],
      "metadata": {
        "id": "dU5jOTFrKYIe",
        "colab": {
          "base_uri": "https://localhost:8080/"
        },
        "outputId": "d483191d-267b-47e6-a284-dad5db11697d"
      },
      "id": "dU5jOTFrKYIe",
      "execution_count": 14,
      "outputs": [
        {
          "output_type": "execute_result",
          "data": {
            "text/plain": [
              "ANN(\n",
              "  (0): Conv2d(1, 16, kernel_size=(3, 3), stride=(2, 2), padding=(1, 1), bias=False)\n",
              "  (1): ReLU()\n",
              "  (2): AvgPool2d(kernel_size=(2, 2), stride=(2, 2), padding=0)\n",
              "  (3): Dropout2d(p=0.1, inplace=False)\n",
              "  (4): Conv2d(16, 32, kernel_size=(3, 3), stride=(2, 2), padding=(1, 1), bias=False)\n",
              "  (5): ReLU()\n",
              "  (6): AvgPool2d(kernel_size=(2, 2), stride=(2, 2), padding=0)\n",
              "  (7): Dropout2d(p=0.25, inplace=False)\n",
              "  (8): Conv2d(32, 32, kernel_size=(3, 3), stride=(1, 1), padding=(1, 1), bias=False)\n",
              "  (9): ReLU()\n",
              "  (10): AvgPool2d(kernel_size=(2, 2), stride=(2, 2), padding=0)\n",
              "  (11): Flatten(start_dim=1, end_dim=-1)\n",
              "  (12): Dropout2d(p=0.5, inplace=False)\n",
              "  (13): Linear(in_features=512, out_features=7, bias=False)\n",
              ")"
            ]
          },
          "metadata": {},
          "execution_count": 14
        }
      ]
    },
    {
      "cell_type": "code",
      "source": [
        "sinabs_path = Path(\"/content\") / \"sinabs\"\n",
        "\n",
        "if not sinabs_path.exists():\n",
        "  !git clone https://github.com/synsense/sinabs.git\n",
        "  !cd sinabs; pip install . --quiet"
      ],
      "metadata": {
        "id": "IQg6U1y9KxcA",
        "colab": {
          "base_uri": "https://localhost:8080/"
        },
        "outputId": "64263fba-4a83-45b3-ee50-9e249cce8b08"
      },
      "id": "IQg6U1y9KxcA",
      "execution_count": 15,
      "outputs": [
        {
          "output_type": "stream",
          "name": "stdout",
          "text": [
            "Cloning into 'sinabs'...\n",
            "remote: Enumerating objects: 3628, done.\u001b[K\n",
            "remote: Counting objects: 100% (3628/3628), done.\u001b[K\n",
            "remote: Compressing objects: 100% (1089/1089), done.\u001b[K\n",
            "remote: Total 3628 (delta 2612), reused 3451 (delta 2483), pack-reused 0\u001b[K\n",
            "Receiving objects: 100% (3628/3628), 2.71 MiB | 3.44 MiB/s, done.\n",
            "Resolving deltas: 100% (2612/2612), done.\n",
            "\u001b[33m  DEPRECATION: A future pip version will change local packages to be built in-place without first copying to a temporary directory. We recommend you use --use-feature=in-tree-build to test your packages with this new behavior before it becomes the default.\n",
            "   pip 21.3 will remove support for this functionality. You can find discussion regarding this at https://github.com/pypa/pip/issues/7555.\u001b[0m\n",
            "  Building wheel for sinabs (setup.py) ... \u001b[?25l\u001b[?25hdone\n"
          ]
        }
      ]
    },
    {
      "cell_type": "code",
      "source": [
        "import sinabs\n",
        "import copy\n",
        "\n",
        "ann_copy = copy.deepcopy(ann)\n",
        "\n",
        "spike_layers = [name for name, child in ann_copy.cpu().named_children() if isinstance(child, nn.ReLU)]\n",
        "param_layers = [name for name, child in ann_copy.cpu().named_children() if isinstance(child, (nn.Conv2d, nn.Linear))]\n",
        "data = next(iter(train_loader))[0]\n",
        "\n",
        "sinabs.utils.normalize_weights(ann_copy, data, output_layers=spike_layers, param_layers=param_layers)"
      ],
      "metadata": {
        "id": "ctFILsxqMO-v"
      },
      "id": "ctFILsxqMO-v",
      "execution_count": 16,
      "outputs": []
    },
    {
      "cell_type": "markdown",
      "source": [
        "We can scale the weights of the first layer to help the network with decision making. "
      ],
      "metadata": {
        "id": "ZJduQXLFTlqW"
      },
      "id": "ZJduQXLFTlqW"
    },
    {
      "cell_type": "code",
      "source": [
        "with torch.no_grad():\n",
        "  ann_copy[0].weight *= 5"
      ],
      "metadata": {
        "id": "FBvmnIJvPQg-"
      },
      "id": "FBvmnIJvPQg-",
      "execution_count": 17,
      "outputs": []
    },
    {
      "cell_type": "code",
      "source": [
        "snn = sinabs.from_torch.from_model(ann_copy, input_shape=(1, 128, 128), add_spiking_output=True)\n",
        "snn"
      ],
      "metadata": {
        "id": "KecYTlVOz_4K",
        "colab": {
          "base_uri": "https://localhost:8080/"
        },
        "outputId": "e7254606-cec1-4ea9-a20e-ce03eb0f4860"
      },
      "id": "KecYTlVOz_4K",
      "execution_count": 18,
      "outputs": [
        {
          "output_type": "execute_result",
          "data": {
            "text/plain": [
              "Network(\n",
              "  (spiking_model): ANN(\n",
              "    (0): Conv2d(1, 16, kernel_size=(3, 3), stride=(2, 2), padding=(1, 1), bias=False)\n",
              "    (1): IAFSqueeze\n",
              "    (2): AvgPool2d(kernel_size=(2, 2), stride=(2, 2), padding=0)\n",
              "    (3): Dropout2d(p=0.1, inplace=False)\n",
              "    (4): Conv2d(16, 32, kernel_size=(3, 3), stride=(2, 2), padding=(1, 1), bias=False)\n",
              "    (5): IAFSqueeze\n",
              "    (6): AvgPool2d(kernel_size=(2, 2), stride=(2, 2), padding=0)\n",
              "    (7): Dropout2d(p=0.25, inplace=False)\n",
              "    (8): Conv2d(32, 32, kernel_size=(3, 3), stride=(1, 1), padding=(1, 1), bias=False)\n",
              "    (9): IAFSqueeze\n",
              "    (10): AvgPool2d(kernel_size=(2, 2), stride=(2, 2), padding=0)\n",
              "    (11): Flatten(start_dim=1, end_dim=-1)\n",
              "    (12): Dropout2d(p=0.5, inplace=False)\n",
              "    (13): Linear(in_features=512, out_features=7, bias=False)\n",
              "    (Spiking output): IAFSqueeze\n",
              "  )\n",
              "  (analog_model): ANN(\n",
              "    (0): Conv2d(1, 16, kernel_size=(3, 3), stride=(2, 2), padding=(1, 1), bias=False)\n",
              "    (1): ReLU()\n",
              "    (2): AvgPool2d(kernel_size=(2, 2), stride=(2, 2), padding=0)\n",
              "    (3): Dropout2d(p=0.1, inplace=False)\n",
              "    (4): Conv2d(16, 32, kernel_size=(3, 3), stride=(2, 2), padding=(1, 1), bias=False)\n",
              "    (5): ReLU()\n",
              "    (6): AvgPool2d(kernel_size=(2, 2), stride=(2, 2), padding=0)\n",
              "    (7): Dropout2d(p=0.25, inplace=False)\n",
              "    (8): Conv2d(32, 32, kernel_size=(3, 3), stride=(1, 1), padding=(1, 1), bias=False)\n",
              "    (9): ReLU()\n",
              "    (10): AvgPool2d(kernel_size=(2, 2), stride=(2, 2), padding=0)\n",
              "    (11): Flatten(start_dim=1, end_dim=-1)\n",
              "    (12): Dropout2d(p=0.5, inplace=False)\n",
              "    (13): Linear(in_features=512, out_features=7, bias=False)\n",
              "  )\n",
              ")"
            ]
          },
          "metadata": {},
          "execution_count": 18
        }
      ]
    },
    {
      "cell_type": "code",
      "source": [
        "torch.save(snn, 'model.pth')"
      ],
      "metadata": {
        "id": "fHdIM9xR2qZJ"
      },
      "id": "fHdIM9xR2qZJ",
      "execution_count": 19,
      "outputs": []
    },
    {
      "cell_type": "markdown",
      "source": [
        "## Evaluate converted SNN on raster data"
      ],
      "metadata": {
        "id": "X_VHbLVpdtr8"
      },
      "id": "X_VHbLVpdtr8"
    },
    {
      "cell_type": "code",
      "source": [
        "from body_postures import BodyPostureEvents"
      ],
      "metadata": {
        "id": "fElIESQWdjnd"
      },
      "id": "fElIESQWdjnd",
      "execution_count": 20,
      "outputs": []
    },
    {
      "cell_type": "code",
      "source": [
        "try:\n",
        "  snn = torch.load('model.pth')\n",
        "  print(\"Loaded saved model.\")\n",
        "except Exception as e:\n",
        "  print(e)"
      ],
      "metadata": {
        "id": "Y0WjZyYY2_ET",
        "colab": {
          "base_uri": "https://localhost:8080/"
        },
        "outputId": "e1c061a1-4f77-4014-f770-0c93a8a363b5"
      },
      "id": "Y0WjZyYY2_ET",
      "execution_count": 21,
      "outputs": [
        {
          "output_type": "stream",
          "name": "stdout",
          "text": [
            "Loaded saved model.\n"
          ]
        }
      ]
    },
    {
      "cell_type": "code",
      "source": [
        "?BodyPostureEvents"
      ],
      "metadata": {
        "id": "DAL0yf24ZRa0"
      },
      "id": "DAL0yf24ZRa0",
      "execution_count": 22,
      "outputs": []
    },
    {
      "cell_type": "code",
      "source": [
        "slice_dt = 2e6 # microseconds\n",
        "bin_dt = 2e3\n",
        "batch_size = 1\n",
        "\n",
        "raster_test_dataset = BodyPostureEvents(\n",
        "    data_path=dataset_path / \"data\" / \"test\",\n",
        "    cache_path=f\"cache/test/{slice_dt}/{bin_dt}\",\n",
        "    slice_dt=slice_dt,\n",
        "    bin_dt=bin_dt,\n",
        "    metadata_path=f\"metadata/raster/test/{slice_dt}/{bin_dt}\",\n",
        "    hot_pixel_filter_freq=hot_pixel_filter_freq,\n",
        ")\n",
        "\n",
        "test_loader = DataLoader(raster_test_dataset, shuffle=True, batch_size=batch_size)"
      ],
      "metadata": {
        "id": "H17nrFCgdxZR",
        "colab": {
          "base_uri": "https://localhost:8080/"
        },
        "outputId": "d5bb6502-bcea-487d-8c87-88143e50f6d3"
      },
      "id": "H17nrFCgdxZR",
      "execution_count": 23,
      "outputs": [
        {
          "output_type": "stream",
          "name": "stdout",
          "text": [
            "Metadata written to disk.\n"
          ]
        }
      ]
    },
    {
      "cell_type": "code",
      "source": [
        "device = \"cuda\" if torch.cuda.is_available() else \"cpu\"\n",
        "\n",
        "snn.eval()\n",
        "snn = snn.to(device)\n",
        "\n",
        "val_data = []\n",
        "batch_loss = []\n",
        "for data, labels in tqdm(test_loader):\n",
        "  with torch.no_grad():\n",
        "    snn.reset_states()\n",
        "    data = data.to(device)\n",
        "    data = data.flatten(0, 1).float()\n",
        "    spikes = snn(data).unflatten(0, (batch_size, -1))\n",
        "\n",
        "    # Collect outputs and labels\n",
        "    labels = labels.to(device)\n",
        "    predictions = spikes.sum(1).argmax(dim=1) \n",
        "    val_data.append(predictions.eq(labels.view_as(predictions)))\n",
        "    print(f\"Spike output: {spikes.sum(1).int().tolist()[0]}, label was {labels.item()}. Overall accuracy: {round((sum(val_data)/len(val_data)).item(), 3)}\")  "
      ],
      "metadata": {
        "id": "2da1idK4ekvE",
        "colab": {
          "base_uri": "https://localhost:8080/",
          "height": 553,
          "referenced_widgets": [
            "5511a2817f5743aa91847f1fd48e800a",
            "5408182b654b4219b886fc2612ef62d9",
            "0b84bf7edda1426fb6a8015cfdbab9ef",
            "8b63afc71d754a6c89fe7be1f1a786df",
            "0060625d32ed454d8b2e165ca67424f2",
            "d931cb0c9f6e4aa39a02b2cda796dd82",
            "a0e21449dc9e44359f1119284660b08f",
            "8e99298a071d4541b1a76e56b6ef53b6",
            "6d37e97810044f0ea7bf5a8ed1d2dd54",
            "41ae750865b44a519e4bb4945b61c4f9",
            "b8f7ca8a8d984c399eb1033a1bb57cf9"
          ]
        },
        "outputId": "71850d11-1b5f-42db-f6ca-a341eeaa21e3"
      },
      "id": "2da1idK4ekvE",
      "execution_count": 24,
      "outputs": [
        {
          "output_type": "display_data",
          "data": {
            "text/plain": [
              "  0%|          | 0/263 [00:00<?, ?it/s]"
            ],
            "application/vnd.jupyter.widget-view+json": {
              "version_major": 2,
              "version_minor": 0,
              "model_id": "5511a2817f5743aa91847f1fd48e800a"
            }
          },
          "metadata": {}
        },
        {
          "output_type": "stream",
          "name": "stdout",
          "text": [
            "Spike output: [0, 7, 0, 0, 4, 0, 0], label was 4. Overall accuracy: 0.0\n",
            "Spike output: [0, 2, 0, 0, 0, 26, 0], label was 5. Overall accuracy: 0.5\n",
            "Spike output: [0, 4, 0, 6, 2, 0, 0], label was 3. Overall accuracy: 0.667\n",
            "Spike output: [0, 9, 2, 1, 7, 0, 0], label was 4. Overall accuracy: 0.5\n",
            "Spike output: [0, 4, 0, 3, 1, 0, 0], label was 3. Overall accuracy: 0.4\n",
            "Spike output: [0, 1, 0, 0, 0, 30, 0], label was 5. Overall accuracy: 0.5\n",
            "Spike output: [0, 7, 0, 0, 11, 0, 0], label was 4. Overall accuracy: 0.571\n"
          ]
        },
        {
          "output_type": "error",
          "ename": "KeyboardInterrupt",
          "evalue": "ignored",
          "traceback": [
            "\u001b[0;31m---------------------------------------------------------------------------\u001b[0m",
            "\u001b[0;31mKeyboardInterrupt\u001b[0m                         Traceback (most recent call last)",
            "\u001b[0;32m<ipython-input-24-b90cf8e82d45>\u001b[0m in \u001b[0;36m<module>\u001b[0;34m()\u001b[0m\n\u001b[1;32m     11\u001b[0m     \u001b[0mdata\u001b[0m \u001b[0;34m=\u001b[0m \u001b[0mdata\u001b[0m\u001b[0;34m.\u001b[0m\u001b[0mto\u001b[0m\u001b[0;34m(\u001b[0m\u001b[0mdevice\u001b[0m\u001b[0;34m)\u001b[0m\u001b[0;34m\u001b[0m\u001b[0;34m\u001b[0m\u001b[0m\n\u001b[1;32m     12\u001b[0m     \u001b[0mdata\u001b[0m \u001b[0;34m=\u001b[0m \u001b[0mdata\u001b[0m\u001b[0;34m.\u001b[0m\u001b[0mflatten\u001b[0m\u001b[0;34m(\u001b[0m\u001b[0;36m0\u001b[0m\u001b[0;34m,\u001b[0m \u001b[0;36m1\u001b[0m\u001b[0;34m)\u001b[0m\u001b[0;34m.\u001b[0m\u001b[0mfloat\u001b[0m\u001b[0;34m(\u001b[0m\u001b[0;34m)\u001b[0m\u001b[0;34m\u001b[0m\u001b[0;34m\u001b[0m\u001b[0m\n\u001b[0;32m---> 13\u001b[0;31m     \u001b[0mspikes\u001b[0m \u001b[0;34m=\u001b[0m \u001b[0msnn\u001b[0m\u001b[0;34m(\u001b[0m\u001b[0mdata\u001b[0m\u001b[0;34m)\u001b[0m\u001b[0;34m.\u001b[0m\u001b[0munflatten\u001b[0m\u001b[0;34m(\u001b[0m\u001b[0;36m0\u001b[0m\u001b[0;34m,\u001b[0m \u001b[0;34m(\u001b[0m\u001b[0mbatch_size\u001b[0m\u001b[0;34m,\u001b[0m \u001b[0;34m-\u001b[0m\u001b[0;36m1\u001b[0m\u001b[0;34m)\u001b[0m\u001b[0;34m)\u001b[0m\u001b[0;34m\u001b[0m\u001b[0;34m\u001b[0m\u001b[0m\n\u001b[0m\u001b[1;32m     14\u001b[0m \u001b[0;34m\u001b[0m\u001b[0m\n\u001b[1;32m     15\u001b[0m     \u001b[0;31m# Collect outputs and labels\u001b[0m\u001b[0;34m\u001b[0m\u001b[0;34m\u001b[0m\u001b[0;34m\u001b[0m\u001b[0m\n",
            "\u001b[0;32m/usr/local/lib/python3.7/dist-packages/torch/nn/modules/module.py\u001b[0m in \u001b[0;36m_call_impl\u001b[0;34m(self, *input, **kwargs)\u001b[0m\n\u001b[1;32m   1100\u001b[0m         if not (self._backward_hooks or self._forward_hooks or self._forward_pre_hooks or _global_backward_hooks\n\u001b[1;32m   1101\u001b[0m                 or _global_forward_hooks or _global_forward_pre_hooks):\n\u001b[0;32m-> 1102\u001b[0;31m             \u001b[0;32mreturn\u001b[0m \u001b[0mforward_call\u001b[0m\u001b[0;34m(\u001b[0m\u001b[0;34m*\u001b[0m\u001b[0minput\u001b[0m\u001b[0;34m,\u001b[0m \u001b[0;34m**\u001b[0m\u001b[0mkwargs\u001b[0m\u001b[0;34m)\u001b[0m\u001b[0;34m\u001b[0m\u001b[0;34m\u001b[0m\u001b[0m\n\u001b[0m\u001b[1;32m   1103\u001b[0m         \u001b[0;31m# Do not call functions when jit is used\u001b[0m\u001b[0;34m\u001b[0m\u001b[0;34m\u001b[0m\u001b[0;34m\u001b[0m\u001b[0m\n\u001b[1;32m   1104\u001b[0m         \u001b[0mfull_backward_hooks\u001b[0m\u001b[0;34m,\u001b[0m \u001b[0mnon_full_backward_hooks\u001b[0m \u001b[0;34m=\u001b[0m \u001b[0;34m[\u001b[0m\u001b[0;34m]\u001b[0m\u001b[0;34m,\u001b[0m \u001b[0;34m[\u001b[0m\u001b[0;34m]\u001b[0m\u001b[0;34m\u001b[0m\u001b[0;34m\u001b[0m\u001b[0m\n",
            "\u001b[0;32m/usr/local/lib/python3.7/dist-packages/sinabs/network.py\u001b[0m in \u001b[0;36mforward\u001b[0;34m(self, tsrInput)\u001b[0m\n\u001b[1;32m     79\u001b[0m         \u001b[0mForward\u001b[0m \u001b[0;32mpass\u001b[0m \u001b[0;32mfor\u001b[0m \u001b[0mthis\u001b[0m \u001b[0mmodel\u001b[0m\u001b[0;34m\u001b[0m\u001b[0;34m\u001b[0m\u001b[0m\n\u001b[1;32m     80\u001b[0m         \"\"\"\n\u001b[0;32m---> 81\u001b[0;31m         \u001b[0;32mreturn\u001b[0m \u001b[0mself\u001b[0m\u001b[0;34m.\u001b[0m\u001b[0mspiking_model\u001b[0m\u001b[0;34m(\u001b[0m\u001b[0mtsrInput\u001b[0m\u001b[0;34m)\u001b[0m\u001b[0;34m\u001b[0m\u001b[0;34m\u001b[0m\u001b[0m\n\u001b[0m\u001b[1;32m     82\u001b[0m \u001b[0;34m\u001b[0m\u001b[0m\n\u001b[1;32m     83\u001b[0m     def compare_activations(\n",
            "\u001b[0;32m/usr/local/lib/python3.7/dist-packages/torch/nn/modules/module.py\u001b[0m in \u001b[0;36m_call_impl\u001b[0;34m(self, *input, **kwargs)\u001b[0m\n\u001b[1;32m   1100\u001b[0m         if not (self._backward_hooks or self._forward_hooks or self._forward_pre_hooks or _global_backward_hooks\n\u001b[1;32m   1101\u001b[0m                 or _global_forward_hooks or _global_forward_pre_hooks):\n\u001b[0;32m-> 1102\u001b[0;31m             \u001b[0;32mreturn\u001b[0m \u001b[0mforward_call\u001b[0m\u001b[0;34m(\u001b[0m\u001b[0;34m*\u001b[0m\u001b[0minput\u001b[0m\u001b[0;34m,\u001b[0m \u001b[0;34m**\u001b[0m\u001b[0mkwargs\u001b[0m\u001b[0;34m)\u001b[0m\u001b[0;34m\u001b[0m\u001b[0;34m\u001b[0m\u001b[0m\n\u001b[0m\u001b[1;32m   1103\u001b[0m         \u001b[0;31m# Do not call functions when jit is used\u001b[0m\u001b[0;34m\u001b[0m\u001b[0;34m\u001b[0m\u001b[0;34m\u001b[0m\u001b[0m\n\u001b[1;32m   1104\u001b[0m         \u001b[0mfull_backward_hooks\u001b[0m\u001b[0;34m,\u001b[0m \u001b[0mnon_full_backward_hooks\u001b[0m \u001b[0;34m=\u001b[0m \u001b[0;34m[\u001b[0m\u001b[0;34m]\u001b[0m\u001b[0;34m,\u001b[0m \u001b[0;34m[\u001b[0m\u001b[0;34m]\u001b[0m\u001b[0;34m\u001b[0m\u001b[0;34m\u001b[0m\u001b[0m\n",
            "\u001b[0;32m/usr/local/lib/python3.7/dist-packages/torch/nn/modules/container.py\u001b[0m in \u001b[0;36mforward\u001b[0;34m(self, input)\u001b[0m\n\u001b[1;32m    139\u001b[0m     \u001b[0;32mdef\u001b[0m \u001b[0mforward\u001b[0m\u001b[0;34m(\u001b[0m\u001b[0mself\u001b[0m\u001b[0;34m,\u001b[0m \u001b[0minput\u001b[0m\u001b[0;34m)\u001b[0m\u001b[0;34m:\u001b[0m\u001b[0;34m\u001b[0m\u001b[0;34m\u001b[0m\u001b[0m\n\u001b[1;32m    140\u001b[0m         \u001b[0;32mfor\u001b[0m \u001b[0mmodule\u001b[0m \u001b[0;32min\u001b[0m \u001b[0mself\u001b[0m\u001b[0;34m:\u001b[0m\u001b[0;34m\u001b[0m\u001b[0;34m\u001b[0m\u001b[0m\n\u001b[0;32m--> 141\u001b[0;31m             \u001b[0minput\u001b[0m \u001b[0;34m=\u001b[0m \u001b[0mmodule\u001b[0m\u001b[0;34m(\u001b[0m\u001b[0minput\u001b[0m\u001b[0;34m)\u001b[0m\u001b[0;34m\u001b[0m\u001b[0;34m\u001b[0m\u001b[0m\n\u001b[0m\u001b[1;32m    142\u001b[0m         \u001b[0;32mreturn\u001b[0m \u001b[0minput\u001b[0m\u001b[0;34m\u001b[0m\u001b[0;34m\u001b[0m\u001b[0m\n\u001b[1;32m    143\u001b[0m \u001b[0;34m\u001b[0m\u001b[0m\n",
            "\u001b[0;32m/usr/local/lib/python3.7/dist-packages/torch/nn/modules/module.py\u001b[0m in \u001b[0;36m_call_impl\u001b[0;34m(self, *input, **kwargs)\u001b[0m\n\u001b[1;32m   1100\u001b[0m         if not (self._backward_hooks or self._forward_hooks or self._forward_pre_hooks or _global_backward_hooks\n\u001b[1;32m   1101\u001b[0m                 or _global_forward_hooks or _global_forward_pre_hooks):\n\u001b[0;32m-> 1102\u001b[0;31m             \u001b[0;32mreturn\u001b[0m \u001b[0mforward_call\u001b[0m\u001b[0;34m(\u001b[0m\u001b[0;34m*\u001b[0m\u001b[0minput\u001b[0m\u001b[0;34m,\u001b[0m \u001b[0;34m**\u001b[0m\u001b[0mkwargs\u001b[0m\u001b[0;34m)\u001b[0m\u001b[0;34m\u001b[0m\u001b[0;34m\u001b[0m\u001b[0m\n\u001b[0m\u001b[1;32m   1103\u001b[0m         \u001b[0;31m# Do not call functions when jit is used\u001b[0m\u001b[0;34m\u001b[0m\u001b[0;34m\u001b[0m\u001b[0;34m\u001b[0m\u001b[0m\n\u001b[1;32m   1104\u001b[0m         \u001b[0mfull_backward_hooks\u001b[0m\u001b[0;34m,\u001b[0m \u001b[0mnon_full_backward_hooks\u001b[0m \u001b[0;34m=\u001b[0m \u001b[0;34m[\u001b[0m\u001b[0;34m]\u001b[0m\u001b[0;34m,\u001b[0m \u001b[0;34m[\u001b[0m\u001b[0;34m]\u001b[0m\u001b[0;34m\u001b[0m\u001b[0;34m\u001b[0m\u001b[0m\n",
            "\u001b[0;32m/usr/local/lib/python3.7/dist-packages/sinabs/layers/iaf.py\u001b[0m in \u001b[0;36mforward\u001b[0;34m(self, input_data)\u001b[0m\n\u001b[1;32m    163\u001b[0m \u001b[0;34m\u001b[0m\u001b[0m\n\u001b[1;32m    164\u001b[0m     \u001b[0;32mdef\u001b[0m \u001b[0mforward\u001b[0m\u001b[0;34m(\u001b[0m\u001b[0mself\u001b[0m\u001b[0;34m,\u001b[0m \u001b[0minput_data\u001b[0m\u001b[0;34m:\u001b[0m \u001b[0mtorch\u001b[0m\u001b[0;34m.\u001b[0m\u001b[0mTensor\u001b[0m\u001b[0;34m)\u001b[0m \u001b[0;34m->\u001b[0m \u001b[0mtorch\u001b[0m\u001b[0;34m.\u001b[0m\u001b[0mTensor\u001b[0m\u001b[0;34m:\u001b[0m\u001b[0;34m\u001b[0m\u001b[0;34m\u001b[0m\u001b[0m\n\u001b[0;32m--> 165\u001b[0;31m         \u001b[0;32mreturn\u001b[0m \u001b[0mself\u001b[0m\u001b[0;34m.\u001b[0m\u001b[0msqueeze_forward\u001b[0m\u001b[0;34m(\u001b[0m\u001b[0minput_data\u001b[0m\u001b[0;34m,\u001b[0m \u001b[0msuper\u001b[0m\u001b[0;34m(\u001b[0m\u001b[0;34m)\u001b[0m\u001b[0;34m.\u001b[0m\u001b[0mforward\u001b[0m\u001b[0;34m)\u001b[0m\u001b[0;34m\u001b[0m\u001b[0;34m\u001b[0m\u001b[0m\n\u001b[0m\u001b[1;32m    166\u001b[0m \u001b[0;34m\u001b[0m\u001b[0m\n\u001b[1;32m    167\u001b[0m     \u001b[0;34m@\u001b[0m\u001b[0mproperty\u001b[0m\u001b[0;34m\u001b[0m\u001b[0;34m\u001b[0m\u001b[0m\n",
            "\u001b[0;32m/usr/local/lib/python3.7/dist-packages/sinabs/layers/reshape.py\u001b[0m in \u001b[0;36msqueeze_forward\u001b[0;34m(self, input_data, forward_method)\u001b[0m\n\u001b[1;32m     46\u001b[0m             \u001b[0mself\u001b[0m\u001b[0;34m.\u001b[0m\u001b[0mbatch_size\u001b[0m\u001b[0;34m,\u001b[0m \u001b[0mself\u001b[0m\u001b[0;34m.\u001b[0m\u001b[0mnum_timesteps\u001b[0m\u001b[0;34m,\u001b[0m \u001b[0;34m*\u001b[0m\u001b[0minput_data\u001b[0m\u001b[0;34m.\u001b[0m\u001b[0mshape\u001b[0m\u001b[0;34m[\u001b[0m\u001b[0;36m1\u001b[0m\u001b[0;34m:\u001b[0m\u001b[0;34m]\u001b[0m\u001b[0;34m\u001b[0m\u001b[0;34m\u001b[0m\u001b[0m\n\u001b[1;32m     47\u001b[0m         )\n\u001b[0;32m---> 48\u001b[0;31m         \u001b[0minflated_output\u001b[0m \u001b[0;34m=\u001b[0m \u001b[0mforward_method\u001b[0m\u001b[0;34m(\u001b[0m\u001b[0minflated_input\u001b[0m\u001b[0;34m)\u001b[0m\u001b[0;34m\u001b[0m\u001b[0;34m\u001b[0m\u001b[0m\n\u001b[0m\u001b[1;32m     49\u001b[0m         \u001b[0;32mreturn\u001b[0m \u001b[0minflated_output\u001b[0m\u001b[0;34m.\u001b[0m\u001b[0mflatten\u001b[0m\u001b[0;34m(\u001b[0m\u001b[0mstart_dim\u001b[0m\u001b[0;34m=\u001b[0m\u001b[0;36m0\u001b[0m\u001b[0;34m,\u001b[0m \u001b[0mend_dim\u001b[0m\u001b[0;34m=\u001b[0m\u001b[0;36m1\u001b[0m\u001b[0;34m)\u001b[0m\u001b[0;34m\u001b[0m\u001b[0;34m\u001b[0m\u001b[0m\n\u001b[1;32m     50\u001b[0m \u001b[0;34m\u001b[0m\u001b[0m\n",
            "\u001b[0;32m/usr/local/lib/python3.7/dist-packages/sinabs/layers/iaf.py\u001b[0m in \u001b[0;36mforward\u001b[0;34m(self, input_data)\u001b[0m\n\u001b[1;32m     62\u001b[0m             \u001b[0mactivation_fn\u001b[0m\u001b[0;34m=\u001b[0m\u001b[0mself\u001b[0m\u001b[0;34m.\u001b[0m\u001b[0mactivation_fn\u001b[0m\u001b[0;34m,\u001b[0m\u001b[0;34m\u001b[0m\u001b[0;34m\u001b[0m\u001b[0m\n\u001b[1;32m     63\u001b[0m             \u001b[0mthreshold_low\u001b[0m\u001b[0;34m=\u001b[0m\u001b[0mself\u001b[0m\u001b[0;34m.\u001b[0m\u001b[0mthreshold_low\u001b[0m\u001b[0;34m,\u001b[0m\u001b[0;34m\u001b[0m\u001b[0;34m\u001b[0m\u001b[0m\n\u001b[0;32m---> 64\u001b[0;31m             \u001b[0mnorm_input\u001b[0m\u001b[0;34m=\u001b[0m\u001b[0;32mFalse\u001b[0m\u001b[0;34m,\u001b[0m\u001b[0;34m\u001b[0m\u001b[0;34m\u001b[0m\u001b[0m\n\u001b[0m\u001b[1;32m     65\u001b[0m         )\n\u001b[1;32m     66\u001b[0m         \u001b[0mself\u001b[0m\u001b[0;34m.\u001b[0m\u001b[0mv_mem\u001b[0m \u001b[0;34m=\u001b[0m \u001b[0mstate\u001b[0m\u001b[0;34m[\u001b[0m\u001b[0;34m\"v_mem\"\u001b[0m\u001b[0;34m]\u001b[0m\u001b[0;34m\u001b[0m\u001b[0;34m\u001b[0m\u001b[0m\n",
            "\u001b[0;32m/usr/local/lib/python3.7/dist-packages/sinabs/layers/functional/lif.py\u001b[0m in \u001b[0;36mlif_forward\u001b[0;34m(input_data, alpha_mem, alpha_syn, state, activation_fn, threshold_low, norm_input)\u001b[0m\n\u001b[1;32m     56\u001b[0m             \u001b[0mactivation_fn\u001b[0m\u001b[0;34m=\u001b[0m\u001b[0mactivation_fn\u001b[0m\u001b[0;34m,\u001b[0m\u001b[0;34m\u001b[0m\u001b[0;34m\u001b[0m\u001b[0m\n\u001b[1;32m     57\u001b[0m             \u001b[0mthreshold_low\u001b[0m\u001b[0;34m=\u001b[0m\u001b[0mthreshold_low\u001b[0m\u001b[0;34m,\u001b[0m\u001b[0;34m\u001b[0m\u001b[0;34m\u001b[0m\u001b[0m\n\u001b[0;32m---> 58\u001b[0;31m             \u001b[0mnorm_input\u001b[0m\u001b[0;34m=\u001b[0m\u001b[0mnorm_input\u001b[0m\u001b[0;34m,\u001b[0m\u001b[0;34m\u001b[0m\u001b[0;34m\u001b[0m\u001b[0m\n\u001b[0m\u001b[1;32m     59\u001b[0m         )\n\u001b[1;32m     60\u001b[0m         \u001b[0moutput_spikes\u001b[0m\u001b[0;34m.\u001b[0m\u001b[0mappend\u001b[0m\u001b[0;34m(\u001b[0m\u001b[0mspikes\u001b[0m\u001b[0;34m)\u001b[0m\u001b[0;34m\u001b[0m\u001b[0;34m\u001b[0m\u001b[0m\n",
            "\u001b[0;32m/usr/local/lib/python3.7/dist-packages/sinabs/layers/functional/lif.py\u001b[0m in \u001b[0;36mlif_forward_single\u001b[0;34m(input_data, alpha_mem, alpha_syn, state, activation_fn, threshold_low, norm_input)\u001b[0m\n\u001b[1;32m     25\u001b[0m     \u001b[0;31m# generate spikes and adjust v_mem\u001b[0m\u001b[0;34m\u001b[0m\u001b[0;34m\u001b[0m\u001b[0;34m\u001b[0m\u001b[0m\n\u001b[1;32m     26\u001b[0m     \u001b[0;32mif\u001b[0m \u001b[0mactivation_fn\u001b[0m\u001b[0;34m:\u001b[0m\u001b[0;34m\u001b[0m\u001b[0;34m\u001b[0m\u001b[0m\n\u001b[0;32m---> 27\u001b[0;31m         \u001b[0mspikes\u001b[0m\u001b[0;34m,\u001b[0m \u001b[0mstate\u001b[0m \u001b[0;34m=\u001b[0m \u001b[0mactivation_fn\u001b[0m\u001b[0;34m(\u001b[0m\u001b[0mstate\u001b[0m\u001b[0;34m)\u001b[0m\u001b[0;34m\u001b[0m\u001b[0;34m\u001b[0m\u001b[0m\n\u001b[0m\u001b[1;32m     28\u001b[0m     \u001b[0;32melse\u001b[0m\u001b[0;34m:\u001b[0m\u001b[0;34m\u001b[0m\u001b[0;34m\u001b[0m\u001b[0m\n\u001b[1;32m     29\u001b[0m         \u001b[0mspikes\u001b[0m \u001b[0;34m=\u001b[0m \u001b[0mstate\u001b[0m\u001b[0;34m[\u001b[0m\u001b[0;34m\"v_mem\"\u001b[0m\u001b[0;34m]\u001b[0m\u001b[0;34m\u001b[0m\u001b[0;34m\u001b[0m\u001b[0m\n",
            "\u001b[0;32m/usr/local/lib/python3.7/dist-packages/sinabs/activation/activation.py\u001b[0m in \u001b[0;36m__call__\u001b[0;34m(self, state)\u001b[0m\n\u001b[1;32m     42\u001b[0m         \u001b[0minput_tensors\u001b[0m \u001b[0;34m=\u001b[0m \u001b[0;34m[\u001b[0m\u001b[0mstate\u001b[0m\u001b[0;34m[\u001b[0m\u001b[0mname\u001b[0m\u001b[0;34m]\u001b[0m \u001b[0;32mfor\u001b[0m \u001b[0mname\u001b[0m \u001b[0;32min\u001b[0m \u001b[0mself\u001b[0m\u001b[0;34m.\u001b[0m\u001b[0mspike_fn\u001b[0m\u001b[0;34m.\u001b[0m\u001b[0mrequired_states\u001b[0m\u001b[0;34m]\u001b[0m\u001b[0;34m\u001b[0m\u001b[0;34m\u001b[0m\u001b[0m\n\u001b[1;32m     43\u001b[0m         spikes = self.spike_fn.apply(\n\u001b[0;32m---> 44\u001b[0;31m             \u001b[0;34m*\u001b[0m\u001b[0minput_tensors\u001b[0m\u001b[0;34m,\u001b[0m \u001b[0mself\u001b[0m\u001b[0;34m.\u001b[0m\u001b[0mspike_threshold\u001b[0m\u001b[0;34m,\u001b[0m \u001b[0mself\u001b[0m\u001b[0;34m.\u001b[0m\u001b[0msurrogate_grad_fn\u001b[0m\u001b[0;34m\u001b[0m\u001b[0;34m\u001b[0m\u001b[0m\n\u001b[0m\u001b[1;32m     45\u001b[0m         )\n\u001b[1;32m     46\u001b[0m         \u001b[0mstate\u001b[0m \u001b[0;34m=\u001b[0m \u001b[0mself\u001b[0m\u001b[0;34m.\u001b[0m\u001b[0mreset_fn\u001b[0m\u001b[0;34m(\u001b[0m\u001b[0mspikes\u001b[0m\u001b[0;34m,\u001b[0m \u001b[0mstate\u001b[0m\u001b[0;34m,\u001b[0m \u001b[0mself\u001b[0m\u001b[0;34m.\u001b[0m\u001b[0mspike_threshold\u001b[0m\u001b[0;34m)\u001b[0m\u001b[0;34m\u001b[0m\u001b[0;34m\u001b[0m\u001b[0m\n",
            "\u001b[0;32m/usr/local/lib/python3.7/dist-packages/sinabs/activation/spike_generation.py\u001b[0m in \u001b[0;36mforward\u001b[0;34m(ctx, v_mem, threshold, surrogate_grad_fn)\u001b[0m\n\u001b[1;32m     37\u001b[0m         \u001b[0mctx\u001b[0m\u001b[0;34m.\u001b[0m\u001b[0msurrogate_grad_fn\u001b[0m \u001b[0;34m=\u001b[0m \u001b[0msurrogate_grad_fn\u001b[0m\u001b[0;34m\u001b[0m\u001b[0;34m\u001b[0m\u001b[0m\n\u001b[1;32m     38\u001b[0m         spikes = (v_mem > 0) * torch.div(\n\u001b[0;32m---> 39\u001b[0;31m             \u001b[0mv_mem\u001b[0m\u001b[0;34m,\u001b[0m \u001b[0mthreshold\u001b[0m\u001b[0;34m,\u001b[0m \u001b[0mrounding_mode\u001b[0m\u001b[0;34m=\u001b[0m\u001b[0;34m\"trunc\"\u001b[0m\u001b[0;34m\u001b[0m\u001b[0;34m\u001b[0m\u001b[0m\n\u001b[0m\u001b[1;32m     40\u001b[0m         ).float()\n\u001b[1;32m     41\u001b[0m         \u001b[0;32mreturn\u001b[0m \u001b[0mspikes\u001b[0m\u001b[0;34m\u001b[0m\u001b[0;34m\u001b[0m\u001b[0m\n",
            "\u001b[0;31mKeyboardInterrupt\u001b[0m: "
          ]
        }
      ]
    },
    {
      "cell_type": "code",
      "source": [
        ""
      ],
      "metadata": {
        "id": "5193LM6bRAJT"
      },
      "id": "5193LM6bRAJT",
      "execution_count": null,
      "outputs": []
    }
  ],
  "metadata": {
    "colab": {
      "name": "Copy of AMLD_train_full.ipynb",
      "provenance": [],
      "collapsed_sections": [],
      "toc_visible": true,
      "include_colab_link": true
    },
    "kernelspec": {
      "display_name": "Python 3 (ipykernel)",
      "language": "python",
      "name": "python3"
    },
    "language_info": {
      "codemirror_mode": {
        "name": "ipython",
        "version": 3
      },
      "file_extension": ".py",
      "mimetype": "text/x-python",
      "name": "python",
      "nbconvert_exporter": "python",
      "pygments_lexer": "ipython3",
      "version": "3.9.7"
    },
    "accelerator": "GPU",
    "widgets": {
      "application/vnd.jupyter.widget-state+json": {
        "3b9061c0764e44c787d192c0d092df79": {
          "model_module": "@jupyter-widgets/controls",
          "model_name": "HBoxModel",
          "model_module_version": "1.5.0",
          "state": {
            "_dom_classes": [],
            "_model_module": "@jupyter-widgets/controls",
            "_model_module_version": "1.5.0",
            "_model_name": "HBoxModel",
            "_view_count": null,
            "_view_module": "@jupyter-widgets/controls",
            "_view_module_version": "1.5.0",
            "_view_name": "HBoxView",
            "box_style": "",
            "children": [
              "IPY_MODEL_722876d2c45947f09d5a98400f1b9390",
              "IPY_MODEL_221764db1fc94fd49c04fbc726126831",
              "IPY_MODEL_68c98c623ee749119c3479dd550d344b"
            ],
            "layout": "IPY_MODEL_b1039e5dfbb5404595c0df086a634d88"
          }
        },
        "722876d2c45947f09d5a98400f1b9390": {
          "model_module": "@jupyter-widgets/controls",
          "model_name": "HTMLModel",
          "model_module_version": "1.5.0",
          "state": {
            "_dom_classes": [],
            "_model_module": "@jupyter-widgets/controls",
            "_model_module_version": "1.5.0",
            "_model_name": "HTMLModel",
            "_view_count": null,
            "_view_module": "@jupyter-widgets/controls",
            "_view_module_version": "1.5.0",
            "_view_name": "HTMLView",
            "description": "",
            "description_tooltip": null,
            "layout": "IPY_MODEL_975a54ad0a4b4802aa3afef5194c3e4c",
            "placeholder": "​",
            "style": "IPY_MODEL_8aef9c2b8c3b406188e2fda83313120c",
            "value": "Epochs: 100%"
          }
        },
        "221764db1fc94fd49c04fbc726126831": {
          "model_module": "@jupyter-widgets/controls",
          "model_name": "FloatProgressModel",
          "model_module_version": "1.5.0",
          "state": {
            "_dom_classes": [],
            "_model_module": "@jupyter-widgets/controls",
            "_model_module_version": "1.5.0",
            "_model_name": "FloatProgressModel",
            "_view_count": null,
            "_view_module": "@jupyter-widgets/controls",
            "_view_module_version": "1.5.0",
            "_view_name": "ProgressView",
            "bar_style": "success",
            "description": "",
            "description_tooltip": null,
            "layout": "IPY_MODEL_caf618ce2cbd44c0a44ec053f97d7f9b",
            "max": 10,
            "min": 0,
            "orientation": "horizontal",
            "style": "IPY_MODEL_b70bff920de1401b98e22fc72b5af269",
            "value": 10
          }
        },
        "68c98c623ee749119c3479dd550d344b": {
          "model_module": "@jupyter-widgets/controls",
          "model_name": "HTMLModel",
          "model_module_version": "1.5.0",
          "state": {
            "_dom_classes": [],
            "_model_module": "@jupyter-widgets/controls",
            "_model_module_version": "1.5.0",
            "_model_name": "HTMLModel",
            "_view_count": null,
            "_view_module": "@jupyter-widgets/controls",
            "_view_module_version": "1.5.0",
            "_view_name": "HTMLView",
            "description": "",
            "description_tooltip": null,
            "layout": "IPY_MODEL_ba7d5863656d4560b2a2930d95c8b25b",
            "placeholder": "​",
            "style": "IPY_MODEL_2b5120cb20b941a69ded84a0ff30af79",
            "value": " 10/10 [00:16&lt;00:00,  1.70s/it, train_loss=0.406, val_acc=0.879, val_loss=0.337]"
          }
        },
        "b1039e5dfbb5404595c0df086a634d88": {
          "model_module": "@jupyter-widgets/base",
          "model_name": "LayoutModel",
          "model_module_version": "1.2.0",
          "state": {
            "_model_module": "@jupyter-widgets/base",
            "_model_module_version": "1.2.0",
            "_model_name": "LayoutModel",
            "_view_count": null,
            "_view_module": "@jupyter-widgets/base",
            "_view_module_version": "1.2.0",
            "_view_name": "LayoutView",
            "align_content": null,
            "align_items": null,
            "align_self": null,
            "border": null,
            "bottom": null,
            "display": null,
            "flex": null,
            "flex_flow": null,
            "grid_area": null,
            "grid_auto_columns": null,
            "grid_auto_flow": null,
            "grid_auto_rows": null,
            "grid_column": null,
            "grid_gap": null,
            "grid_row": null,
            "grid_template_areas": null,
            "grid_template_columns": null,
            "grid_template_rows": null,
            "height": null,
            "justify_content": null,
            "justify_items": null,
            "left": null,
            "margin": null,
            "max_height": null,
            "max_width": null,
            "min_height": null,
            "min_width": null,
            "object_fit": null,
            "object_position": null,
            "order": null,
            "overflow": null,
            "overflow_x": null,
            "overflow_y": null,
            "padding": null,
            "right": null,
            "top": null,
            "visibility": null,
            "width": null
          }
        },
        "975a54ad0a4b4802aa3afef5194c3e4c": {
          "model_module": "@jupyter-widgets/base",
          "model_name": "LayoutModel",
          "model_module_version": "1.2.0",
          "state": {
            "_model_module": "@jupyter-widgets/base",
            "_model_module_version": "1.2.0",
            "_model_name": "LayoutModel",
            "_view_count": null,
            "_view_module": "@jupyter-widgets/base",
            "_view_module_version": "1.2.0",
            "_view_name": "LayoutView",
            "align_content": null,
            "align_items": null,
            "align_self": null,
            "border": null,
            "bottom": null,
            "display": null,
            "flex": null,
            "flex_flow": null,
            "grid_area": null,
            "grid_auto_columns": null,
            "grid_auto_flow": null,
            "grid_auto_rows": null,
            "grid_column": null,
            "grid_gap": null,
            "grid_row": null,
            "grid_template_areas": null,
            "grid_template_columns": null,
            "grid_template_rows": null,
            "height": null,
            "justify_content": null,
            "justify_items": null,
            "left": null,
            "margin": null,
            "max_height": null,
            "max_width": null,
            "min_height": null,
            "min_width": null,
            "object_fit": null,
            "object_position": null,
            "order": null,
            "overflow": null,
            "overflow_x": null,
            "overflow_y": null,
            "padding": null,
            "right": null,
            "top": null,
            "visibility": null,
            "width": null
          }
        },
        "8aef9c2b8c3b406188e2fda83313120c": {
          "model_module": "@jupyter-widgets/controls",
          "model_name": "DescriptionStyleModel",
          "model_module_version": "1.5.0",
          "state": {
            "_model_module": "@jupyter-widgets/controls",
            "_model_module_version": "1.5.0",
            "_model_name": "DescriptionStyleModel",
            "_view_count": null,
            "_view_module": "@jupyter-widgets/base",
            "_view_module_version": "1.2.0",
            "_view_name": "StyleView",
            "description_width": ""
          }
        },
        "caf618ce2cbd44c0a44ec053f97d7f9b": {
          "model_module": "@jupyter-widgets/base",
          "model_name": "LayoutModel",
          "model_module_version": "1.2.0",
          "state": {
            "_model_module": "@jupyter-widgets/base",
            "_model_module_version": "1.2.0",
            "_model_name": "LayoutModel",
            "_view_count": null,
            "_view_module": "@jupyter-widgets/base",
            "_view_module_version": "1.2.0",
            "_view_name": "LayoutView",
            "align_content": null,
            "align_items": null,
            "align_self": null,
            "border": null,
            "bottom": null,
            "display": null,
            "flex": null,
            "flex_flow": null,
            "grid_area": null,
            "grid_auto_columns": null,
            "grid_auto_flow": null,
            "grid_auto_rows": null,
            "grid_column": null,
            "grid_gap": null,
            "grid_row": null,
            "grid_template_areas": null,
            "grid_template_columns": null,
            "grid_template_rows": null,
            "height": null,
            "justify_content": null,
            "justify_items": null,
            "left": null,
            "margin": null,
            "max_height": null,
            "max_width": null,
            "min_height": null,
            "min_width": null,
            "object_fit": null,
            "object_position": null,
            "order": null,
            "overflow": null,
            "overflow_x": null,
            "overflow_y": null,
            "padding": null,
            "right": null,
            "top": null,
            "visibility": null,
            "width": null
          }
        },
        "b70bff920de1401b98e22fc72b5af269": {
          "model_module": "@jupyter-widgets/controls",
          "model_name": "ProgressStyleModel",
          "model_module_version": "1.5.0",
          "state": {
            "_model_module": "@jupyter-widgets/controls",
            "_model_module_version": "1.5.0",
            "_model_name": "ProgressStyleModel",
            "_view_count": null,
            "_view_module": "@jupyter-widgets/base",
            "_view_module_version": "1.2.0",
            "_view_name": "StyleView",
            "bar_color": null,
            "description_width": ""
          }
        },
        "ba7d5863656d4560b2a2930d95c8b25b": {
          "model_module": "@jupyter-widgets/base",
          "model_name": "LayoutModel",
          "model_module_version": "1.2.0",
          "state": {
            "_model_module": "@jupyter-widgets/base",
            "_model_module_version": "1.2.0",
            "_model_name": "LayoutModel",
            "_view_count": null,
            "_view_module": "@jupyter-widgets/base",
            "_view_module_version": "1.2.0",
            "_view_name": "LayoutView",
            "align_content": null,
            "align_items": null,
            "align_self": null,
            "border": null,
            "bottom": null,
            "display": null,
            "flex": null,
            "flex_flow": null,
            "grid_area": null,
            "grid_auto_columns": null,
            "grid_auto_flow": null,
            "grid_auto_rows": null,
            "grid_column": null,
            "grid_gap": null,
            "grid_row": null,
            "grid_template_areas": null,
            "grid_template_columns": null,
            "grid_template_rows": null,
            "height": null,
            "justify_content": null,
            "justify_items": null,
            "left": null,
            "margin": null,
            "max_height": null,
            "max_width": null,
            "min_height": null,
            "min_width": null,
            "object_fit": null,
            "object_position": null,
            "order": null,
            "overflow": null,
            "overflow_x": null,
            "overflow_y": null,
            "padding": null,
            "right": null,
            "top": null,
            "visibility": null,
            "width": null
          }
        },
        "2b5120cb20b941a69ded84a0ff30af79": {
          "model_module": "@jupyter-widgets/controls",
          "model_name": "DescriptionStyleModel",
          "model_module_version": "1.5.0",
          "state": {
            "_model_module": "@jupyter-widgets/controls",
            "_model_module_version": "1.5.0",
            "_model_name": "DescriptionStyleModel",
            "_view_count": null,
            "_view_module": "@jupyter-widgets/base",
            "_view_module_version": "1.2.0",
            "_view_name": "StyleView",
            "description_width": ""
          }
        },
        "5511a2817f5743aa91847f1fd48e800a": {
          "model_module": "@jupyter-widgets/controls",
          "model_name": "HBoxModel",
          "model_module_version": "1.5.0",
          "state": {
            "_dom_classes": [],
            "_model_module": "@jupyter-widgets/controls",
            "_model_module_version": "1.5.0",
            "_model_name": "HBoxModel",
            "_view_count": null,
            "_view_module": "@jupyter-widgets/controls",
            "_view_module_version": "1.5.0",
            "_view_name": "HBoxView",
            "box_style": "",
            "children": [
              "IPY_MODEL_5408182b654b4219b886fc2612ef62d9",
              "IPY_MODEL_0b84bf7edda1426fb6a8015cfdbab9ef",
              "IPY_MODEL_8b63afc71d754a6c89fe7be1f1a786df"
            ],
            "layout": "IPY_MODEL_0060625d32ed454d8b2e165ca67424f2"
          }
        },
        "5408182b654b4219b886fc2612ef62d9": {
          "model_module": "@jupyter-widgets/controls",
          "model_name": "HTMLModel",
          "model_module_version": "1.5.0",
          "state": {
            "_dom_classes": [],
            "_model_module": "@jupyter-widgets/controls",
            "_model_module_version": "1.5.0",
            "_model_name": "HTMLModel",
            "_view_count": null,
            "_view_module": "@jupyter-widgets/controls",
            "_view_module_version": "1.5.0",
            "_view_name": "HTMLView",
            "description": "",
            "description_tooltip": null,
            "layout": "IPY_MODEL_d931cb0c9f6e4aa39a02b2cda796dd82",
            "placeholder": "​",
            "style": "IPY_MODEL_a0e21449dc9e44359f1119284660b08f",
            "value": "  3%"
          }
        },
        "0b84bf7edda1426fb6a8015cfdbab9ef": {
          "model_module": "@jupyter-widgets/controls",
          "model_name": "FloatProgressModel",
          "model_module_version": "1.5.0",
          "state": {
            "_dom_classes": [],
            "_model_module": "@jupyter-widgets/controls",
            "_model_module_version": "1.5.0",
            "_model_name": "FloatProgressModel",
            "_view_count": null,
            "_view_module": "@jupyter-widgets/controls",
            "_view_module_version": "1.5.0",
            "_view_name": "ProgressView",
            "bar_style": "danger",
            "description": "",
            "description_tooltip": null,
            "layout": "IPY_MODEL_8e99298a071d4541b1a76e56b6ef53b6",
            "max": 263,
            "min": 0,
            "orientation": "horizontal",
            "style": "IPY_MODEL_6d37e97810044f0ea7bf5a8ed1d2dd54",
            "value": 7
          }
        },
        "8b63afc71d754a6c89fe7be1f1a786df": {
          "model_module": "@jupyter-widgets/controls",
          "model_name": "HTMLModel",
          "model_module_version": "1.5.0",
          "state": {
            "_dom_classes": [],
            "_model_module": "@jupyter-widgets/controls",
            "_model_module_version": "1.5.0",
            "_model_name": "HTMLModel",
            "_view_count": null,
            "_view_module": "@jupyter-widgets/controls",
            "_view_module_version": "1.5.0",
            "_view_name": "HTMLView",
            "description": "",
            "description_tooltip": null,
            "layout": "IPY_MODEL_41ae750865b44a519e4bb4945b61c4f9",
            "placeholder": "​",
            "style": "IPY_MODEL_b8f7ca8a8d984c399eb1033a1bb57cf9",
            "value": " 7/263 [00:13&lt;08:22,  1.96s/it]"
          }
        },
        "0060625d32ed454d8b2e165ca67424f2": {
          "model_module": "@jupyter-widgets/base",
          "model_name": "LayoutModel",
          "model_module_version": "1.2.0",
          "state": {
            "_model_module": "@jupyter-widgets/base",
            "_model_module_version": "1.2.0",
            "_model_name": "LayoutModel",
            "_view_count": null,
            "_view_module": "@jupyter-widgets/base",
            "_view_module_version": "1.2.0",
            "_view_name": "LayoutView",
            "align_content": null,
            "align_items": null,
            "align_self": null,
            "border": null,
            "bottom": null,
            "display": null,
            "flex": null,
            "flex_flow": null,
            "grid_area": null,
            "grid_auto_columns": null,
            "grid_auto_flow": null,
            "grid_auto_rows": null,
            "grid_column": null,
            "grid_gap": null,
            "grid_row": null,
            "grid_template_areas": null,
            "grid_template_columns": null,
            "grid_template_rows": null,
            "height": null,
            "justify_content": null,
            "justify_items": null,
            "left": null,
            "margin": null,
            "max_height": null,
            "max_width": null,
            "min_height": null,
            "min_width": null,
            "object_fit": null,
            "object_position": null,
            "order": null,
            "overflow": null,
            "overflow_x": null,
            "overflow_y": null,
            "padding": null,
            "right": null,
            "top": null,
            "visibility": null,
            "width": null
          }
        },
        "d931cb0c9f6e4aa39a02b2cda796dd82": {
          "model_module": "@jupyter-widgets/base",
          "model_name": "LayoutModel",
          "model_module_version": "1.2.0",
          "state": {
            "_model_module": "@jupyter-widgets/base",
            "_model_module_version": "1.2.0",
            "_model_name": "LayoutModel",
            "_view_count": null,
            "_view_module": "@jupyter-widgets/base",
            "_view_module_version": "1.2.0",
            "_view_name": "LayoutView",
            "align_content": null,
            "align_items": null,
            "align_self": null,
            "border": null,
            "bottom": null,
            "display": null,
            "flex": null,
            "flex_flow": null,
            "grid_area": null,
            "grid_auto_columns": null,
            "grid_auto_flow": null,
            "grid_auto_rows": null,
            "grid_column": null,
            "grid_gap": null,
            "grid_row": null,
            "grid_template_areas": null,
            "grid_template_columns": null,
            "grid_template_rows": null,
            "height": null,
            "justify_content": null,
            "justify_items": null,
            "left": null,
            "margin": null,
            "max_height": null,
            "max_width": null,
            "min_height": null,
            "min_width": null,
            "object_fit": null,
            "object_position": null,
            "order": null,
            "overflow": null,
            "overflow_x": null,
            "overflow_y": null,
            "padding": null,
            "right": null,
            "top": null,
            "visibility": null,
            "width": null
          }
        },
        "a0e21449dc9e44359f1119284660b08f": {
          "model_module": "@jupyter-widgets/controls",
          "model_name": "DescriptionStyleModel",
          "model_module_version": "1.5.0",
          "state": {
            "_model_module": "@jupyter-widgets/controls",
            "_model_module_version": "1.5.0",
            "_model_name": "DescriptionStyleModel",
            "_view_count": null,
            "_view_module": "@jupyter-widgets/base",
            "_view_module_version": "1.2.0",
            "_view_name": "StyleView",
            "description_width": ""
          }
        },
        "8e99298a071d4541b1a76e56b6ef53b6": {
          "model_module": "@jupyter-widgets/base",
          "model_name": "LayoutModel",
          "model_module_version": "1.2.0",
          "state": {
            "_model_module": "@jupyter-widgets/base",
            "_model_module_version": "1.2.0",
            "_model_name": "LayoutModel",
            "_view_count": null,
            "_view_module": "@jupyter-widgets/base",
            "_view_module_version": "1.2.0",
            "_view_name": "LayoutView",
            "align_content": null,
            "align_items": null,
            "align_self": null,
            "border": null,
            "bottom": null,
            "display": null,
            "flex": null,
            "flex_flow": null,
            "grid_area": null,
            "grid_auto_columns": null,
            "grid_auto_flow": null,
            "grid_auto_rows": null,
            "grid_column": null,
            "grid_gap": null,
            "grid_row": null,
            "grid_template_areas": null,
            "grid_template_columns": null,
            "grid_template_rows": null,
            "height": null,
            "justify_content": null,
            "justify_items": null,
            "left": null,
            "margin": null,
            "max_height": null,
            "max_width": null,
            "min_height": null,
            "min_width": null,
            "object_fit": null,
            "object_position": null,
            "order": null,
            "overflow": null,
            "overflow_x": null,
            "overflow_y": null,
            "padding": null,
            "right": null,
            "top": null,
            "visibility": null,
            "width": null
          }
        },
        "6d37e97810044f0ea7bf5a8ed1d2dd54": {
          "model_module": "@jupyter-widgets/controls",
          "model_name": "ProgressStyleModel",
          "model_module_version": "1.5.0",
          "state": {
            "_model_module": "@jupyter-widgets/controls",
            "_model_module_version": "1.5.0",
            "_model_name": "ProgressStyleModel",
            "_view_count": null,
            "_view_module": "@jupyter-widgets/base",
            "_view_module_version": "1.2.0",
            "_view_name": "StyleView",
            "bar_color": null,
            "description_width": ""
          }
        },
        "41ae750865b44a519e4bb4945b61c4f9": {
          "model_module": "@jupyter-widgets/base",
          "model_name": "LayoutModel",
          "model_module_version": "1.2.0",
          "state": {
            "_model_module": "@jupyter-widgets/base",
            "_model_module_version": "1.2.0",
            "_model_name": "LayoutModel",
            "_view_count": null,
            "_view_module": "@jupyter-widgets/base",
            "_view_module_version": "1.2.0",
            "_view_name": "LayoutView",
            "align_content": null,
            "align_items": null,
            "align_self": null,
            "border": null,
            "bottom": null,
            "display": null,
            "flex": null,
            "flex_flow": null,
            "grid_area": null,
            "grid_auto_columns": null,
            "grid_auto_flow": null,
            "grid_auto_rows": null,
            "grid_column": null,
            "grid_gap": null,
            "grid_row": null,
            "grid_template_areas": null,
            "grid_template_columns": null,
            "grid_template_rows": null,
            "height": null,
            "justify_content": null,
            "justify_items": null,
            "left": null,
            "margin": null,
            "max_height": null,
            "max_width": null,
            "min_height": null,
            "min_width": null,
            "object_fit": null,
            "object_position": null,
            "order": null,
            "overflow": null,
            "overflow_x": null,
            "overflow_y": null,
            "padding": null,
            "right": null,
            "top": null,
            "visibility": null,
            "width": null
          }
        },
        "b8f7ca8a8d984c399eb1033a1bb57cf9": {
          "model_module": "@jupyter-widgets/controls",
          "model_name": "DescriptionStyleModel",
          "model_module_version": "1.5.0",
          "state": {
            "_model_module": "@jupyter-widgets/controls",
            "_model_module_version": "1.5.0",
            "_model_name": "DescriptionStyleModel",
            "_view_count": null,
            "_view_module": "@jupyter-widgets/base",
            "_view_module_version": "1.2.0",
            "_view_name": "StyleView",
            "description_width": ""
          }
        }
      }
    }
  },
  "nbformat": 4,
  "nbformat_minor": 5
}